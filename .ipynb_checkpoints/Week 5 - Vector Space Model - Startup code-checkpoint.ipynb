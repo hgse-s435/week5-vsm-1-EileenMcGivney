{
 "cells": [
  {
   "cell_type": "markdown",
   "metadata": {},
   "source": [
    "# Week 5 - Vector Space Model (VSM) and Topic Modeling"
   ]
  },
  {
   "cell_type": "markdown",
   "metadata": {},
   "source": [
    "Over the next weeks, we are going to re-implement Sherin's algorithm and apply it to the text data we've been working on last week! Here's our roadmap:\n",
    "\n",
    "**Week 5 - data cleaning**\n",
    "1. import the data\n",
    "2. clean the data (e.g., remopve stop words, punctuation, etc.)\n",
    "3. build a vocabulary for the dataset\n",
    "4. create chunks of 100 words, with a 25-words overlap\n",
    "5. create a word count matrix, where each chunk of a row and each column represents a word\n",
    "\n",
    "**Week 6 - vectorization and linear algebra**\n",
    "6. Dampen: weight the frequency of words (1 + log[count])\n",
    "7. Scale: Normalize weighted frequency of words\n",
    "8. Direction: compute deviation vectors\n",
    "\n",
    "**Week 7 - Clustering**\n",
    "9. apply different unsupervised machine learning algorithms\n",
    "    * figure out how many clusters we want to keep\n",
    "    * inspect the results of the clustering algorithm\n",
    "\n",
    "**Week 8 - Visualizing the results**\n",
    "10. create visualizations to compare documents"
   ]
  },
  {
   "cell_type": "code",
   "execution_count": 14,
   "metadata": {},
   "outputs": [],
   "source": [
    "# in python code, our goal is to recreate the steps above as functions\n",
    "# so that we can just one line to run topic modeling on a list of \n",
    "# documents: \n",
    "def ExtractTopicsVSM(documents, numTopics):\n",
    "    ''' this functions takes in a list of documents (strings), \n",
    "        runs topic modeling (as implemented by Sherin, 2013)\n",
    "        and returns the clustering results, the matrix used \n",
    "        for clustering a visualization '''\n",
    "    \n",
    "    # step 2: clean up the documents\n",
    "    documents = clean_list_of_documents(documents)\n",
    "    \n",
    "    # step 3: let's build the vocabulary of these docs\n",
    "    vocabulary = get_vocabulary(documents)\n",
    "    \n",
    "    # step 4: we build our list of 100-words overlapping fragments\n",
    "    documents = flatten_and_overlap(documents)\n",
    "    \n",
    "    # step 5: we convert the chunks into a matrix\n",
    "    matrix = docs_by_words_matrix(documents, vocabulary)\n",
    "    \n",
    "    # step 6: we weight the frequency of words (count = 1 + log(count))\n",
    "    matrix = one_plus_log_mat(matrix, documents, vocabulary)\n",
    "    \n",
    "    # step 7: we normalize the matrix\n",
    "    matrix = normalize(matrix)\n",
    "    \n",
    "    # step 8: we compute deviation vectors\n",
    "    matrix = transform_deviation_vectors(matrix, documents)\n",
    "    \n",
    "    # step 9: we apply a clustering algorithm to find topics\n",
    "    results_clustering = cluster_matrix(matrix)\n",
    "    \n",
    "    # step 10: we create a visualization of the topics\n",
    "    visualization = visualize_clusters(results_clustering, vocabulary)\n",
    "    \n",
    "    # finally, we return the clustering results, the matrix, and a visualization\n",
    "    return results_clustering, matrix, visualization"
   ]
  },
  {
   "cell_type": "code",
   "execution_count": 37,
   "metadata": {},
   "outputs": [],
   "source": [
    "##Setup\n",
    "# plot the graphs inline\n",
    "%matplotlib inline\n",
    "\n",
    "import os\n",
    "import re\n",
    "import glob\n",
    "\n",
    "import numpy as np\n",
    "import pandas as pd\n",
    "import matplotlib.pyplot as plt\n",
    "\n",
    "from collections import defaultdict"
   ]
  },
  {
   "cell_type": "markdown",
   "metadata": {},
   "source": [
    "## Step 1 - Data Retrieval"
   ]
  },
  {
   "cell_type": "code",
   "execution_count": 16,
   "metadata": {},
   "outputs": [
    {
     "name": "stdout",
     "output_type": "stream",
     "text": [
      "['./Papers/paper0.txt', './Papers/paper1.txt', './Papers/paper10.txt', './Papers/paper11.txt', './Papers/paper12.txt', './Papers/paper13.txt', './Papers/paper14.txt', './Papers/paper15.txt', './Papers/paper16.txt', './Papers/paper2.txt', './Papers/paper3.txt', './Papers/paper4.txt', './Papers/paper5.txt', './Papers/paper6.txt', './Papers/paper7.txt', './Papers/paper8.txt', './Papers/paper9.txt']\n"
     ]
    }
   ],
   "source": [
    "# 1) using glob, find all the text files in the \"Papers\" folder\n",
    "# Hint: refer to last week's notebook\n",
    "import glob\n",
    "files = glob.glob('./Papers/*.txt')\n",
    "print(files)"
   ]
  },
  {
   "cell_type": "code",
   "execution_count": 17,
   "metadata": {},
   "outputs": [
    {
     "data": {
      "text/plain": [
       "17"
      ]
     },
     "execution_count": 17,
     "metadata": {},
     "output_type": "execute_result"
    }
   ],
   "source": [
    "# 2) get all the data from the text files into the \"documents\" list\n",
    "# P.S. make sure you use the 'utf-8' encoding\n",
    "documents = []\n",
    "for paper in files:\n",
    "        f= open(paper,\"r\", encoding = 'utf8')\n",
    "        f = f.read()\n",
    "        documents.append(f)\n",
    "    \n",
    "len(documents)\n"
   ]
  },
  {
   "cell_type": "code",
   "execution_count": 18,
   "metadata": {},
   "outputs": [
    {
     "name": "stdout",
     "output_type": "stream",
     "text": [
      "\f",
      "zone out no more: mitigating mind wandering during\n",
      "computerized reading\n",
      "sidney k. d’mello, caitlin mills, robert bixler, & nigel bosch\n",
      "university of notre dame\n",
      "118 haggar hall\n",
      "notre dame, in 46556, usa\n",
      "sdmello@nd.edu\n",
      "\n",
      "abstract\n",
      "mind wandering, defined as shifts in attention from task-related\n",
      "processing to task-unrelated thoughts, is a ubiquitous\n",
      "phenomenon that has a negative influence on performance and\n",
      "productivity in many contexts, including learning. we propose\n",
      "that next-generation learning technologies should have some\n",
      "mechanism to detect and respond to mind wandering in real-time.\n",
      "towards this end, we developed a technology that automatically\n",
      "detects mind wandering from eye-gaze during learning from\n",
      "instructional texts. when mind wandering is detected, the\n",
      "technology intervenes by posing just-in-time questions and\n",
      "encouraging re-reading as needed. after multiple rounds of\n",
      "iterative refinement, we summatively compared the technology to\n",
      "a yoked-control in an experiment with 104 par\n"
     ]
    }
   ],
   "source": [
    "# 3) print the first 1000 characters of the first document to see what it \n",
    "# looks like (we'll use this as a sanity check below)\n",
    "print(documents[0][0:1000])"
   ]
  },
  {
   "cell_type": "markdown",
   "metadata": {},
   "source": [
    "## Step 2 - Data Cleaning"
   ]
  },
  {
   "cell_type": "code",
   "execution_count": 19,
   "metadata": {},
   "outputs": [
    {
     "name": "stdout",
     "output_type": "stream",
     "text": [
      "50043\n",
      "39310\n"
     ]
    },
    {
     "data": {
      "text/plain": [
       "str"
      ]
     },
     "execution_count": 19,
     "metadata": {},
     "output_type": "execute_result"
    }
   ],
   "source": [
    "# 4) only select the text that's between the first occurence of the \n",
    "# the word \"abstract\" and the last occurence of the word \"reference\"\n",
    "# Optional: print the length of the string before and after, as a \n",
    "# sanity check\n",
    "# HINT: https://stackoverflow.com/questions/14496006/finding-last-occurrence-of-substring-in-string-replacing-that\n",
    "# read more about rfind: https://www.tutorialspoint.com/python/string_rfind.htm\n",
    "\n",
    "d1 = documents[0]\n",
    "print(len(d1))\n",
    "body = re.findall(r'abstract(.*?)reference', d1, re.DOTALL)\n",
    "body = body[0]\n",
    "print(len(body))\n",
    "type(body)"
   ]
  },
  {
   "cell_type": "code",
   "execution_count": 20,
   "metadata": {},
   "outputs": [
    {
     "name": "stdout",
     "output_type": "stream",
     "text": [
      "17\n",
      "\n",
      "mind wandering, defined as shifts in attention from task-related\n",
      "processing to task-unrelated thoughts, is a ubiquitous\n",
      "phenomenon that has a negative influence on performance and\n",
      "productivity in many contexts, including learning. we propose\n",
      "that next-generation learning technologies should have some\n",
      "mechanism to detect and respond to mind wandering in real-time.\n",
      "towards this end, we developed a technology that automatically\n",
      "detects mind wandering from eye-gaze during learning from\n",
      "instructional texts. when mind wandering is detected, the\n",
      "technology intervenes by posing just-in-time questions and\n",
      "encouraging re-reading as needed. after multiple rounds of\n",
      "iterative refinement, we summatively compared the technology to\n",
      "a yoked-control in an experiment with 104 participants. the key\n",
      "dependent variable was performance on a post-reading\n",
      "comprehension assessment. our results suggest that the\n",
      "technology was successful in correcting comprehension deficits\n",
      "attributed to mind wandering (d = .47\n"
     ]
    }
   ],
   "source": [
    "bodies = []\n",
    "print(len(documents))\n",
    "for doc in documents:\n",
    "    start = doc.index('abstract\\n') + len('abstract')\n",
    "    end = doc.rfind('\\nreference')\n",
    "    bodies.append(doc[start:end])\n",
    "len(bodies)\n",
    "print(bodies[0][0:1000])"
   ]
  },
  {
   "cell_type": "code",
   "execution_count": 21,
   "metadata": {},
   "outputs": [
    {
     "data": {
      "text/plain": [
       "' mind wandering, defined as shifts in attention from task-related processing to task-unrelated thoughts, is a ubiquitous phenomenon that has a negative influence on performance and productivity in many contexts, including learning. we propose that next-generation learning technologies should have some mechanism to detect and respond to mind wandering in real-time. towards this end, we developed a technology that automatically detects mind wandering from eye-gaze during learning from instructional texts. when mind wandering is detected, the technology intervenes by posing just-in-time questions and encouraging re-reading as needed. after multiple rounds of iterative refinement, we summatively compared the technology to a yoked-control in an experiment with 104 participants. the key dependent variable was performance on a post-reading comprehension assessment. our results suggest that the technology was successful in correcting comprehension deficits attributed to mind wandering (d = .47'"
      ]
     },
     "execution_count": 21,
     "metadata": {},
     "output_type": "execute_result"
    }
   ],
   "source": [
    "# 5) replace carriage returns (i.e., \"\\n\") with a white space\n",
    "# check that the result looks okay by printing the \n",
    "# first 1000 characters of the 1st doc:\n",
    "# body = body.replace('\\n', ' ')\n",
    "# print(body[0:1000])\n",
    "#using enumerate- i is the index, doc is the element\n",
    "for i, doc in enumerate(bodies):\n",
    "    bodies[i] = doc.replace('\\n', ' ')\n",
    "bodies[0][:1000]"
   ]
  },
  {
   "cell_type": "code",
   "execution_count": 22,
   "metadata": {},
   "outputs": [
    {
     "name": "stdout",
     "output_type": "stream",
     "text": [
      " mind wandering  defined as shifts in attention from task related processing to task unrelated thoughts  is a ubiquitous phenomenon that has a negative influence on performance and productivity in many contexts  including learning  we propose that next generation learning technologies should have some mechanism to detect and respond to mind wandering in real time  towards this end  we developed a technology that automatically detects mind wandering from eye gaze during learning from instructional texts  when mind wandering is detected  the technology intervenes by posing just in time questions and encouraging re reading as needed  after multiple rounds of iterative refinement  we summatively compared the technology to a yoked control in an experiment with 104 participants  the key dependent variable was performance on a post reading comprehension assessment  our results suggest that the technology was successful in correcting comprehension deficits attributed to mind wandering  d    47\n"
     ]
    }
   ],
   "source": [
    "# 6) replace the punctation below by a white space\n",
    "# check that the result looks okay \n",
    "# (e.g., by print the first 1000 characters of the 1st doc)\n",
    "\n",
    "punctuation = ['.', '...', '!', '#', '\"', '%', '$', \"'\", '&', ')', \n",
    "               '(', '+', '*', '-', ',', '/', '.', ';', ':', '=', \n",
    "               '<', '?', '>', '@', '\",', '\".', '[', ']', '\\\\', ',',\n",
    "               '_', '^', '`', '{', '}', '|', '~', '−', '”', '“', '’']\n",
    "\n",
    "for punc in punctuation:\n",
    "    bodies[0] = bodies[0].replace(punc, ' ')\n",
    "print(bodies[0][0:1000])"
   ]
  },
  {
   "cell_type": "code",
   "execution_count": 23,
   "metadata": {},
   "outputs": [
    {
     "name": "stdout",
     "output_type": "stream",
     "text": [
      " mind wandering  defined as shifts in attention from task related processing to task unrelated thoughts  is a ubiquitous phenomenon that has a negative influence on performance and productivity in many contexts  including learning  we propose that next generation learning technologies should have some mechanism to detect and respond to mind wandering in real time  towards this end  we developed a technology that automatically detects mind wandering from eye gaze during learning from instructional texts  when mind wandering is detected  the technology intervenes by posing just in time questions and encouraging re reading as needed  after multiple rounds of iterative refinement  we summatively compared the technology to a yoked control in an experiment with     participants  the key dependent variable was performance on a post reading comprehension assessment  our results suggest that the technology was successful in correcting comprehension deficits attributed to mind wandering  d      \n"
     ]
    }
   ],
   "source": [
    "# 7) remove numbers by either a white space or the word \"number\"\n",
    "# again, print the first 1000 characters of the first document\n",
    "# to check that you're doing the right thing\n",
    "\n",
    "\n",
    "bodies[0] = re.sub(r'\\d', ' ', bodies[0])\n",
    "print(bodies[0][0:1000])\n"
   ]
  },
  {
   "cell_type": "code",
   "execution_count": 24,
   "metadata": {},
   "outputs": [
    {
     "name": "stdout",
     "output_type": "stream",
     "text": [
      " mind wandering  defined shifts attention task related processing task unrelated thoughts  ubiquitous phenomenon negative influence performance productivity many contexts  including learning  we propose next generation learning technologies mechanism detect respond mind wandering real time  towards end  we developed technology automatically detects mind wandering eye gaze learning instructional texts  mind wandering detected  technology intervenes posing time questions encouraging re reading needed  multiple rounds iterative refinement  we summatively compared technology yoked control experiment     participants  key dependent variable performance post reading comprehension assessment  results suggest technology successful correcting comprehension deficits attributed mind wandering  d       sigma  specific conditions  thereby highlighting potential improve learning  attending attention    keywords mind wandering  gaze tracking  student modeling  attentionaware      introduction despite\n"
     ]
    }
   ],
   "source": [
    "# 8) Remove the stop words below from our documents\n",
    "# print the first 1000 characters of the first document\n",
    "stop_words = ['i', 'me', 'my', 'myself', 'we ', 'our', 'ours', \n",
    "              'ourselves', 'you', 'your', 'yours', 'yourself', \n",
    "              'yourselves', 'he', 'him', 'his', 'himself', 'she', \n",
    "              'her', 'hers', 'herself', 'it', 'its', 'itself', \n",
    "              'they', 'them', 'their', 'theirs', 'themselves', \n",
    "              'what', 'which', 'who', 'whom', 'this', 'that', \n",
    "              'these', 'those', 'am', 'is', 'are', 'was', 'were', \n",
    "              'be', 'been', 'being', 'have', 'has', 'had', 'having', \n",
    "              'do', 'does', 'did', 'doing', 'a', 'an', 'the', 'and', \n",
    "              'but', 'if', 'or', 'because', 'as', 'until', 'while', \n",
    "              'of', 'at', 'by', 'for', 'with', 'about', 'against', \n",
    "              'between', 'into', 'through', 'during', 'before', \n",
    "              'after', 'above', 'below', 'to', 'from', 'up', 'down', \n",
    "              'in', 'out', 'on', 'off', 'over', 'under', 'again', \n",
    "              'further', 'then', 'once', 'here', 'there', 'when', \n",
    "              'where', 'why', 'how', 'all', 'any', 'both', 'each', \n",
    "              'few', 'more', 'most', 'other', 'some', 'such', 'no', \n",
    "              'nor', 'not', 'only', 'own', 'same', 'so', 'than', \n",
    "              'too', 'very', 's', 't', 'can', 'will', \n",
    "              'just', 'don', 'should', 'now']\n",
    "\n",
    "for word in stop_words:\n",
    "    word = ' '+word+' '\n",
    "    bodies[0] = bodies[0].replace(word, ' ')\n",
    "print(bodies[0][0:1000])\n"
   ]
  },
  {
   "cell_type": "code",
   "execution_count": 25,
   "metadata": {},
   "outputs": [
    {
     "name": "stdout",
     "output_type": "stream",
     "text": [
      " mind wandering  defined shifts attention task related processing task unrelated thoughts  ubiquitous phenomenon negative influence performance productivity many contexts  including learning propose next generation learning technologies mechanism detect respond mind wandering real time  towards developed technology automatically detects mind wandering gaze learning instructional texts  mind wandering detected  technology intervenes posing time questions encouraging reading needed  multiple rounds iterative refinement summatively compared technology yoked control experiment     participants dependent variable performance post reading comprehension assessment  results suggest technology successful correcting comprehension deficits attributed mind wandering       sigma  specific conditions  thereby highlighting potential improve learning  attending attention    keywords mind wandering  gaze tracking  student modeling  attentionaware      introduction despite best efforts write clear engag\n"
     ]
    }
   ],
   "source": [
    "# 9) remove words with one and two characters (e.g., 'd', 'er', etc.)\n",
    "# print the first 1000 characters of the first document\n",
    "shortword = re.compile(r'\\W*\\b\\w{1,3}\\b')\n",
    "bodies[0]= shortword.sub('', bodies[0])\n",
    "print(bodies[0][0:1000])"
   ]
  },
  {
   "cell_type": "markdown",
   "metadata": {},
   "source": [
    "\n",
    "### Putting it all together"
   ]
  },
  {
   "cell_type": "code",
   "execution_count": 51,
   "metadata": {},
   "outputs": [],
   "source": [
    "# 10) package all of your work above into a function that cleans a given document\n",
    "\n",
    "##Setup\n",
    "# plot the graphs inline\n",
    "%matplotlib inline\n",
    "\n",
    "import os\n",
    "import re\n",
    "import glob\n",
    "\n",
    "import numpy as np\n",
    "import pandas as pd\n",
    "import matplotlib.pyplot as plt\n",
    "\n",
    "from collections import defaultdict\n",
    "\n",
    "##Define the function\n",
    "\n",
    "def clean_list_of_documents(documents):\n",
    "#empty list to add documents to:    \n",
    "    cleaned_docs = []\n",
    "    \n",
    "#define lists for removal (punctuation, stop words and 2-letter words):\n",
    "    punctuation = ['.', '...', '!', '#', '\"', '%', '$', \"'\", '&', ')', \n",
    "                   '(', '+', '*', '-', ',', '/', '.', ';', ':', '=', \n",
    "                   '<', '?', '>', '@', '\",', '\".', '[', ']', '\\\\', ',',\n",
    "                   '_', '^', '`', '{', '}', '|', '~', '−', '”', '“', '’']\n",
    "    stop_words = ['i', 'me', 'my', 'myself', 'we ', 'our', 'ours', \n",
    "                  'ourselves', 'you', 'your', 'yours', 'yourself', \n",
    "                  'yourselves', 'he', 'him', 'his', 'himself', 'she', \n",
    "                  'her', 'hers', 'herself', 'it', 'its', 'itself', \n",
    "                  'they', 'them', 'their', 'theirs', 'themselves', \n",
    "                  'what', 'which', 'who', 'whom', 'this', 'that', \n",
    "                  'these', 'those', 'am', 'is', 'are', 'was', 'were', \n",
    "                  'be', 'been', 'being', 'have', 'has', 'had', 'having', \n",
    "                  'do', 'does', 'did', 'doing', 'a', 'an', 'the', 'and', \n",
    "                  'but', 'if', 'or', 'because', 'as', 'until', 'while', \n",
    "                  'of', 'at', 'by', 'for', 'with', 'about', 'against', \n",
    "                  'between', 'into', 'through', 'during', 'before', \n",
    "                  'after', 'above', 'below', 'to', 'from', 'up', 'down', \n",
    "                  'in', 'out', 'on', 'off', 'over', 'under', 'again', \n",
    "                  'further', 'then', 'once', 'here', 'there', 'when', \n",
    "                  'where', 'why', 'how', 'all', 'any', 'both', 'each', \n",
    "                  'few', 'more', 'most', 'other', 'some', 'such', 'no', \n",
    "                  'nor', 'not', 'only', 'own', 'same', 'so', 'than', \n",
    "                  'too', 'very', 's', 't', 'can', 'will', \n",
    "                  'just', 'don', 'should', 'now']\n",
    "\n",
    "    shortword = re.compile(r'\\W*\\b\\w{1,3}\\b')\n",
    "\n",
    "    #select only the body of the text:    \n",
    "    for document in documents:\n",
    "        start = document.index('abstract\\n') + len('abstract')\n",
    "        end = document.rfind('\\nreference')\n",
    "        document = document[start:end]\n",
    "    #remove line breaks: \n",
    "        document = document.replace('\\n', ' ')\n",
    "    #remove punctuation\n",
    "        for punc in punctuation:\n",
    "            document = document.replace(punc, ' ')\n",
    "    #remove numbers using regex:\n",
    "        document = re.sub(r'\\d', ' ', document)\n",
    "    #remove stop words\n",
    "        for word in stop_words:\n",
    "            word = ' '+word+' '\n",
    "            document = document.replace(word, ' ')\n",
    "    #remove short (1- and 2- letter) words:\n",
    "        document= shortword.sub('', document)\n",
    "    #append the cleaned document to the list cleaned_docs\n",
    "        cleaned_docs.append(document)\n",
    "    #return the results of cleaned_docs\n",
    "    return cleaned_docs"
   ]
  },
  {
   "cell_type": "code",
   "execution_count": 52,
   "metadata": {},
   "outputs": [
    {
     "name": "stdout",
     "output_type": "stream",
     "text": [
      "17\n",
      " mind wandering  defined shifts attention task related processing task unrelated thoughts  ubiquitous phenomenon negative influence performance productivity many contexts  including learning propose next generation learning technologies mechanism detect respond mind wandering real time  towards developed technology automatically detects mind wandering gaze learning instructional texts  mind wandering detected  technology intervenes posing time questions encouraging reading needed  multiple rounds iterative refinement summatively compared technology yoked control experiment     participants dependent variable performance post reading comprehension assessment  results suggest technology successful correcting comprehension deficits attributed mind wandering       sigma  specific conditions  thereby highlighting potential improve learning  attending attention    keywords mind wandering  gaze tracking  student modeling  attentionaware      introduction despite best efforts write clear engag\n",
      "17\n"
     ]
    }
   ],
   "source": [
    "# 11a) reimport your raw data using the code in 2)\n",
    "\n",
    "files = glob.glob('./Papers/*.txt')\n",
    "\n",
    "documents = []\n",
    "for paper in files:\n",
    "        f= open(paper,\"r\", encoding = 'utf8')\n",
    "        f = f.read()\n",
    "        documents.append(f)\n",
    "print(len(documents))\n",
    "    \n",
    "        \n",
    "# 11b) clean your files using the function above\n",
    "documents = clean_list_of_documents(documents)\n",
    "\n",
    "\n",
    "# 11c) print the first 1000 characters of the first document\n",
    "print(documents[0][0:1000])\n",
    "print(len(documents))"
   ]
  },
  {
   "cell_type": "markdown",
   "metadata": {},
   "source": [
    "## Step 3 - Build your list of vocabulary"
   ]
  },
  {
   "cell_type": "markdown",
   "metadata": {},
   "source": [
    "This list of words (i.e., the vocabulary) is going to become the columns of your matrix."
   ]
  },
  {
   "cell_type": "code",
   "execution_count": 41,
   "metadata": {},
   "outputs": [],
   "source": [
    "import math\n",
    "import numpy as np"
   ]
  },
  {
   "cell_type": "markdown",
   "metadata": {},
   "source": [
    "12) Describe why we need to figure out the vocabulary used in our corpus (refer back to Sherin's paper, and explain in your own words): \n",
    "\n",
    "We need a list of all the unique words that might be important to count. By counting these unique words in each paper/passage, we can identify patterns of what the texts are about. With the vocabularly we will be able to count the frequency of these words in each passage we identify."
   ]
  },
  {
   "cell_type": "code",
   "execution_count": 53,
   "metadata": {},
   "outputs": [
    {
     "name": "stdout",
     "output_type": "stream",
     "text": [
      "5876\n",
      "['aalborg', 'abduljabbar', 'abernethy', 'abilities', 'ability', 'able', 'abnormal', 'absence', 'absent', 'absolute', 'abstract', 'abstracts', 'academic', 'academy', 'accelerated', 'accentuate', 'accept', 'access', 'accessed', 'accesses', 'accessible', 'accommodate', 'accomplish', 'accordance', 'according', 'accordingly', 'account', 'accounting', 'accounts', 'accuracies', 'accuracy', 'accurate', 'accurately', 'achievable', 'achieve', 'achieved', 'achievement', 'achiever', 'achieves', 'achieving', 'acids', 'acii', 'acknowledgements', 'acknowledging', 'acknowledgments', 'acoustic', 'acquire', 'acquired', 'acquisition', 'across', 'acting', 'action', 'actionable', 'actioncount', 'actions', 'activate', 'activated', 'activation', 'activations', 'active', 'actively', 'activities', 'activity', 'actors', 'actual', 'actually', 'adam', 'adamson', 'adapt', 'adaptability', 'adaptation', 'adapted', 'adapting', 'adaptive', 'adaptively', 'adapts', 'adasyn', 'added', 'adding', 'addition', 'additional', 'additionally', 'additive', 'address', 'addressed', 'addresses', 'addressing', 'adds', 'adeetee', 'adhering', 'adjacency', 'adjacent', 'adjectives', 'adjust', 'adjusted', 'adjusting', 'adjustment', 'adjustments', 'administered', 'admissions', 'admm', 'adobe', 'adolescence', 'adopt', 'adopted', 'adopting', 'adoption', 'adopts', 'adult', 'adulthood', 'adults', 'advance', 'advanced', 'advancement', 'advancements', 'advances', 'advancing', 'advantage', 'advantages', 'adversity', 'advice', 'advising', 'advisors', 'affect', 'affected', 'affecting', 'affective', 'affects', 'affiliated', 'affine', 'afford', 'affordance', 'afforded', 'affords', 'afnlp', 'aforementioned', 'african', 'aged', 'agenda', 'agent', 'agentbased', 'agents', 'ages', 'agglomeration', 'agglomerative', 'aggregate', 'aggregated', 'aggregating', 'aggregation', 'aggressively', 'agnostic', 'agreed', 'agreement', 'agrifolia', 'ahead', 'aicoptimal', 'aied', 'aims', 'akaike', 'alamitos', 'alazzawi', 'albeit', 'alert', 'aleven', 'alfalqi', 'algebra', 'alghamdi', 'algorithm', 'algorithms', 'align', 'aligned', 'aligning', 'alignment', 'alike', 'allessio', 'alleviates', 'allison', 'allocation', 'allow', 'allowed', 'allowing', 'allows', 'ally', 'almost', 'alone', 'along', 'alongside', 'aloud', 'alphabetical', 'already', 'alright', 'also', 'altered', 'alternate', 'alternating', 'alternative', 'alternatively', 'alternatives', 'although', 'altogether', 'always', 'amazon', 'ambiguity', 'amenable', 'america', 'american', 'amidst', 'amino', 'among', 'amongst', 'amount', 'amounts', 'amplitude', 'amply', 'analogical', 'analogous', 'analogue', 'analyses', 'analysis', 'analytic', 'analytical', 'analytics', 'analyze', 'analyzed', 'analyzing', 'ancestor', 'anchor', 'ancova', 'andersen', 'anderson', 'andoutcomes', 'andre', 'anecdotally', 'angeles', 'anger', 'angle', 'angles', 'animal', 'animals', 'animalwatch', 'animated', 'annotate', 'annotated', 'annotating', 'annotation', 'annotations', 'annu', 'annual', 'anonymized', 'another', 'answer', 'answered', 'answering', 'answers', 'anti', 'anticipated', 'anxiety', 'anxious', 'anything', 'anywhere', 'apart', 'apparent', 'appcount', 'appealing', 'appear', 'appeared', 'appearing', 'appears', 'appendix', 'applicability', 'applicable', 'application', 'applications', 'applied', 'applies', 'apply', 'applying', 'approach', 'approaches', 'approaching', 'appropriate', 'appropriateness', 'approximate', 'approximated', 'approximately', 'aptitude', 'aptitudetreatment', 'arastoopour', 'arbitrary', 'arbor', 'archetypes', 'architecture', 'architectures', 'area', 'areas', 'aren', 'arenas', 'arguable', 'argue', 'argued', 'argument', 'arise', 'arises', 'arithmetic', 'arithmetical', 'arithmetics', 'armed', 'army', 'around', 'arousal', 'aroyo', 'arranged', 'arrangement', 'arrive', 'arrives', 'arrogance', 'arrow', 'arrows', 'artefacts', 'article', 'articles', 'articulated', 'artificial', 'artificially', 'arts', 'ascending', 'ascertain', 'asian', 'asked', 'asking', 'asks', 'aspect', 'aspects', 'aspx', 'assess', 'assessed', 'assesses', 'assessing', 'assessment', 'assessments', 'assiduous', 'assign', 'assigned', 'assigning', 'assignment', 'assignments', 'assigns', 'assimilate', 'assist', 'assistance', 'assistant', 'assistants', 'assisting', 'associated', 'associates', 'associating', 'association', 'associations', 'assume', 'assumed', 'assumes', 'assumption', 'assumptions', 'assured', 'asymmetric', 'asynchronously', 'atlanta', 'attains', 'attempt', 'attempted', 'attempting', 'attempts', 'attend', 'attendant', 'attending', 'attention', 'attentional', 'attentionaware', 'attentivelearner', 'attentivereview', 'attitude', 'attitudes', 'attracted', 'attractive', 'attributable', 'attribute', 'attributed', 'attributes', 'attrition', 'auckland', 'aucs', 'audible', 'audio', 'auditory', 'augment', 'augmented', 'aupr', 'auroc', 'austin', 'australasian', 'australian', 'authentic', 'author', 'authoring', 'authors', 'auto', 'autoassociator', 'autoencoder', 'autoencoders', 'automate', 'automated', 'automatic', 'automatically', 'automaticity', 'automation', 'automatized', 'autonomous', 'autonomy', 'autotutor', 'auxiliary', 'availability', 'available', 'avenue', 'avenues', 'average', 'averaged', 'averaging', 'avgtime', 'avgtimeonstepps', 'avgtimeonstepsessionps', 'avoid', 'avoidance', 'avoided', 'avoiding', 'avoids', 'awarded', 'aware', 'awareness', 'away', 'axes', 'axis', 'azevedo', 'bach', 'back', 'background', 'backgrounds', 'backpropagation', 'backspace', 'backward', 'backwards', 'bagley', 'baird', 'baker', 'bakhtiari', 'balance', 'balanced', 'balloon', 'bandit', 'bandpass', 'bands', 'bandwidth', 'bank', 'banks', 'barnes', 'bars', 'bartle', 'base', 'based', 'baseline', 'baselines', 'basic', 'basically', 'basics', 'basis', 'basu', 'batch', 'bauer', 'bayes', 'bayesian', 'bear', 'beating', 'beauty', 'became', 'beck', 'become', 'becomes', 'becoming', 'been', 'beep', 'began', 'begin', 'beginning', 'begins', 'begleiter', 'behave', 'behaves', 'behavior', 'behavioral', 'behaviors', 'behaviours', 'behind', 'beier', 'belief', 'beliefs', 'believe', 'believed', 'bell', 'bellkor', 'belong', 'belongs', 'beneficial', 'benefit', 'benefited', 'benefits', 'benjamini', 'berkeley', 'berlin', 'bernardi', 'bernoulli', 'besides', 'best', 'beta', 'better', 'beyond', 'bhide', 'bias', 'biased', 'bigger', 'biggest', 'biggs', 'bigsmall', 'billion', 'billy', 'binary', 'biochemistry', 'biochemists', 'bioinformatics', 'biol', 'biology', 'biostatistics', 'biserial', 'bixler', 'black', 'blackboard', 'blackburn', 'blanchard', 'blank', 'blei', 'blind', 'blink', 'blinks', 'blogs', 'blood', 'bloom', 'blue', 'blustein', 'bodies', 'bodily', 'body', 'bold', 'bolded', 'bonds', 'bonferroni', 'bonnin', 'book', 'boonthum', 'boost', 'boosted', 'boosting', 'boosts', 'boots', 'bored', 'boredom', 'bosch', 'boticario', 'bottom', 'bouchet', 'boud', 'bound', 'boundaries', 'boundary', 'bounded', 'bounds', 'boutilier', 'boxes', 'boyce', 'boyd', 'boyer', 'boys', 'brafman', 'brain', 'branch', 'branched', 'branches', 'branching', 'brands', 'brawner', 'break', 'breaking', 'breaks', 'brevity', 'brick', 'bridge', 'bridges', 'bridging', 'brief', 'briefly', 'brighton', 'bring', 'brings', 'brno', 'broad', 'broader', 'broadly', 'broadway', 'brockmole', 'brow', 'browse', 'browser', 'browsing', 'brun', 'brunskill', 'brute', 'bruttin', 'bubbles', 'buchanan', 'budget', 'build', 'building', 'builds', 'built', 'bulletin', 'bundles', 'burdensome', 'burger', 'buried', 'burleson', 'business', 'button', 'buttons', 'bytes', 'cade', 'calcularis', 'calculate', 'calculated', 'calculates', 'calculating', 'calculation', 'calculations', 'calculus', 'calibrate', 'calibrating', 'calibration', 'california', 'call', 'called', 'cambridge', 'came', 'camera', 'cameras', 'canada', 'canadian', 'canadienne', 'candidate', 'canini', 'cannot', 'canonical', 'capabilities', 'capability', 'capable', 'capital', 'capped', 'caps', 'capture', 'captured', 'captures', 'capturing', 'carberry', 'care', 'career', 'careful', 'carefully', 'careless', 'carl', 'carnegie', 'carolina', 'carried', 'carry', 'cascade', 'case', 'cases', 'catalog', 'catch', 'catching', 'categorical', 'categories', 'categorization', 'categorizations', 'categorize', 'categorized', 'category', 'caucasian', 'caught', 'causal', 'causality', 'cause', 'caused', 'causes', 'causing', 'caution', 'cautious', 'cdfs', 'ceie', 'ceiling', 'cell', 'cellij', 'cells', 'cell∗', 'center', 'centered', 'centers', 'central', 'centrality', 'centrally', 'centroid', 'centroids', 'century', 'cerri', 'cert', 'certain', 'certificate', 'certification', 'chain', 'chains', 'challenge', 'challenges', 'challenging', 'chance', 'chances', 'chang', 'change', 'changed', 'changes', 'changing', 'chania', 'channel', 'channels', 'chapter', 'chapters', 'character', 'characteristic', 'characteristics', 'characterization', 'characterizations', 'characterize', 'characterized', 'characterizes', 'characterizing', 'characters', 'charles', 'charlie', 'chart', 'charts', 'chasm', 'chat', 'chatroom', 'chats', 'chatti', 'chawla', 'check', 'checkboxes', 'checked', 'checks', 'cheek', 'chemical', 'chemistry', 'chen', 'cheng', 'chickering', 'chignell', 'child', 'childcare', 'children', 'china', 'choi', 'choice', 'choices', 'choose', 'chooses', 'choosing', 'chose', 'chosen', 'christian', 'christy', 'chromebook', 'chromosomes', 'chronological', 'chua', 'chuan', 'chull', 'chung', 'cieslak', 'cinema', 'circle', 'circles', 'circuit', 'circulatory', 'circumstanced', 'circumstances', 'city', 'civil', 'claim', 'claimed', 'claims', 'clancey', 'clarify', 'clark', 'class', 'classes', 'classi', 'classic', 'classical', 'classification', 'classifications', 'classified', 'classifier', 'classifiers', 'classify', 'classifying', 'classmates', 'classroom', 'classrooms', 'clean', 'clear', 'cleared', 'clearly', 'click', 'clicking', 'clicks', 'clickstream', 'clickstreams', 'client', 'climatic', 'clinical', 'clip', 'close', 'closed', 'closely', 'closeness', 'closer', 'closest', 'closing', 'cloze', 'cluster', 'clustered', 'clustering', 'clusterings', 'clusters', 'cntrl', 'code', 'coded', 'coding', 'cody', 'coefficient', 'coefficients', 'cognition', 'cognitive', 'cognizant', 'cogtool', 'cohen', 'cohesion', 'cohesive', 'collabo', 'collaborating', 'collaboration', 'collaborative', 'collaborativegrants', 'collapse', 'collapsed', 'collapsing', 'colleagues', 'collect', 'collected', 'collecting', 'collection', 'college', 'collier', 'collin', 'collinearity', 'collis', 'color', 'colored', 'colours', 'column', 'columns', 'combating', 'combination', 'combinations', 'combine', 'combined', 'combines', 'combining', 'come', 'comes', 'coming', 'commands', 'commensurate', 'comment', 'comments', 'commerce', 'commercial', 'commercialoff', 'committing', 'common', 'commonly', 'communication', 'communications', 'community', 'compact', 'companion', 'companions', 'comparable', 'comparative', 'comparatively', 'compare', 'compared', 'compares', 'comparing', 'comparison', 'comparisons', 'compelling', 'compensated', 'compete', 'competence', 'competencies', 'competing', 'competition', 'competitiveness', 'compilation', 'compiled', 'complement', 'complementary', 'complements', 'complete', 'completed', 'completely', 'completeness', 'completing', 'completion', 'complex', 'complexity', 'compliance', 'complicated', 'complied', 'complimentary', 'comply', 'complying', 'component', 'components', 'compose', 'composed', 'composing', 'composite', 'composition', 'compounded', 'compounding', 'comprehended', 'comprehending', 'comprehension', 'comprehensive', 'compression', 'comprised', 'compulsory', 'computation', 'computational', 'computationally', 'computations', 'compute', 'computed', 'computer', 'computerbased', 'computerenabled', 'computerized', 'computers', 'computes', 'computing', 'conati', 'concatenated', 'concatenates', 'concentrate', 'concentrating', 'concentration', 'concept', 'concepts', 'conceptual', 'conceptualized', 'conceptually', 'concern', 'concerning', 'concerns', 'concise', 'concisely', 'conclude', 'concluded', 'concluding', 'conclusion', 'conclusions', 'concrete', 'concretely', 'concreteness', 'cond', 'condense', 'condensing', 'condition', 'conditional', 'conditions', 'conduct', 'conducted', 'conducting', 'conf', 'conference', 'confidence', 'confident', 'confidently', 'configuration', 'configurations', 'confirm', 'confirmed', 'confound', 'confounds', 'confronted', 'confused', 'confusion', 'congratulations', 'congruence', 'congruent', 'conjugate', 'connect', 'connected', 'connectedness', 'connection', 'connections', 'connector', 'connor', 'connotation', 'conpliance', 'conscious', 'consciousness', 'consecutive', 'consensus', 'consent', 'consequences', 'consequently', 'conservative', 'consider', 'considerable', 'considerably', 'consideration', 'considerations', 'considered', 'considering', 'considers', 'consist', 'consisted', 'consistency', 'consistent', 'consistently', 'consisting', 'consists', 'constant', 'constitutes', 'constrain', 'constrained', 'constraining', 'constraint', 'constraints', 'construct', 'constructed', 'constructing', 'construction', 'constructive', 'constructs', 'consultation', 'consumed', 'consumer', 'consumes', 'consumption', 'contain', 'contained', 'containing', 'contains', 'contemporary', 'contend', 'contender', 'content', 'contentbased', 'contents', 'context', 'contexts', 'contextual', 'continue', 'continued', 'continues', 'continuing', 'continuous', 'continuously', 'contrary', 'contrast', 'contribute', 'contributed', 'contributes', 'contributing', 'contribution', 'contributions', 'contrived', 'control', 'controlled', 'controlling', 'controls', 'controversy', 'conv', 'convenience', 'conventions', 'converge', 'convergence', 'convergent', 'converges', 'converging', 'conversational', 'conversations', 'conversely', 'conversion', 'convert', 'converted', 'converting', 'convex', 'convey', 'convl', 'convo', 'convolution', 'convolutional', 'convolutions', 'cool', 'cooper', 'cooperative', 'coordinated', 'coordinates', 'coordinator', 'cope', 'copy', 'copyright', 'corbett', 'cordillera', 'core', 'cornell', 'corp', 'corpora', 'corporate', 'corpus', 'corr', 'correct', 'corrected', 'correcting', 'correction', 'corrective', 'correctly', 'correctlypmade', 'correctness', 'corrects', 'correlate', 'correlated', 'correlates', 'correlating', 'correlation', 'correlations', 'correspond', 'corresponded', 'correspondence', 'corresponding', 'corresponds', 'corroborated', 'cosine', 'cost', 'costly', 'costs', 'cots', 'could', 'council', 'count', 'counter', 'counterpart', 'counterparts', 'counting', 'countries', 'counts', 'coupled', 'coupling', 'courier', 'course', 'coursera', 'courses', 'coursewise', 'covariate', 'cover', 'covered', 'covering', 'covers', 'covert', 'create', 'created', 'creates', 'creating', 'creation', 'creative', 'credit', 'crete', 'criteria', 'criterion', 'critical', 'croatia', 'cross', 'crosscontext', 'crosscorpus', 'crossing', 'crosstrained', 'crosstraining', 'crossvalidation', 'crowd', 'crowdsources', 'crowdsourcing', 'crowe', 'crucial', 'crystal', 'csedu', 'cues', 'culture', 'cummings', 'cumulative', 'curious', 'current', 'currently', 'curriculum', 'curve', 'curves', 'custom', 'cutoff', 'cutting', 'cyber', 'cyberlearning', 'cycle', 'cycles', 'cynical', 'czech', 'danger', 'danielle', 'dariush', 'dark', 'dashed', 'data', 'database', 'dataset', 'datasets', 'data–', 'date', 'davidson', 'davier', 'davies', 'dawson', 'daydreaming', 'days', 'dbakhtiari', 'deal', 'dealing', 'dealt', 'dearth', 'debriefing', 'debshila', 'decade', 'decades', 'decay', 'decaying', 'december', 'decide', 'decided', 'deciding', 'decision', 'decisionmaking', 'decisions', 'declines', 'decoder', 'decoders', 'decompose', 'decomposed', 'decomposes', 'decomposition', 'decontextualized', 'decouple', 'decrease', 'decreased', 'decreases', 'decreasing', 'deemed', 'deep', 'deeper', 'deeply', 'default', 'defaults', 'deficiencies', 'deficiency', 'deficient', 'deficits', 'define', 'defined', 'defining', 'definition', 'definitions', 'degrades', 'degree', 'degrees', 'delay', 'delayed', 'delete', 'deliberate', 'delicate', 'delight', 'deliver', 'delivered', 'delivering', 'delivery', 'delta', 'demand', 'demographic', 'demographics', 'demonstrate', 'demonstrated', 'demonstrating', 'demonstration', 'demonstrations', 'demotivating', 'denied', 'denmark', 'denominator', 'denote', 'denoted', 'denotes', 'denoting', 'dense', 'density', 'dental', 'department', 'departments', 'depend', 'dependencies', 'dependency', 'dependent', 'depending', 'depends', 'depict', 'depicted', 'depictions', 'depicts', 'deploy', 'deployed', 'deploying', 'deployment', 'deprives', 'dept', 'depth', 'depths', 'derivation', 'derivative', 'derive', 'derived', 'derives', 'deriving', 'descent', 'describe', 'described', 'describes', 'describing', 'description', 'descriptions', 'descriptive', 'deserves', 'design', 'designated', 'designed', 'designer', 'designers', 'designing', 'designs', 'desirable', 'desire', 'desired', 'desktop', 'desmarais', 'despite', 'destroyed', 'detail', 'detailed', 'detailing', 'details', 'detect', 'detected', 'detecting', 'detection', 'detector', 'detectors', 'detects', 'determine', 'determined', 'determines', 'determining', 'deterministic', 'deterministically', 'detrimental', 'develop', 'developed', 'developers', 'developing', 'development', 'developmental', 'deviation', 'deviations', 'device', 'devices', 'devise', 'diag', 'diagnose', 'diagnosed', 'diagnosis', 'diagnostic', 'diagnostically', 'diagram', 'diagrams', 'dialog', 'dialogs', 'dialogue', 'diameter', 'dichotomous', 'dictate', 'dictated', 'dictates', 'didn', 'dietterich', 'differ', 'differed', 'difference', 'differences', 'different', 'differential', 'differentially', 'differentiate', 'differentiates', 'differentiating', 'differently', 'differs', 'difficult', 'difficulties', 'difficulty', 'digging', 'digit', 'digital', 'digitized', 'dilation', 'diligence', 'diligent', 'diligently', 'dillenbourg', 'dimension', 'dimensional', 'dimensionality', 'dimensions', 'diminish', 'dimitrakakis', 'dimpler', 'ding', 'direct', 'directed', 'directing', 'direction', 'directions', 'directly', 'directs', 'dirichlet', 'disabilities', 'disability', 'disabled', 'disadvantage', 'disappear', 'discard', 'discarded', 'discarding', 'discernable', 'discon', 'discount', 'discounted', 'discounting', 'discouragingly', 'discourse', 'discover', 'discovered', 'discoveries', 'discovering', 'discovers', 'discovery', 'discrete', 'discretization', 'discretized', 'discriminate', 'discriminative', 'discuss', 'discussed', 'discussion', 'discussions', 'disease', 'diseases', 'disengagement', 'disequilibrium', 'disorder', 'disorders', 'dispersion', 'display', 'displayed', 'displays', 'disposal', 'disregard', 'disruption', 'disruptive', 'dissemination', 'dissimilarity', 'dist', 'distance', 'distances', 'distill', 'distinct', 'distinctly', 'distinguish', 'distinguished', 'distinguishes', 'distinguishing', 'distracted', 'distraction', 'distributed', 'distribution', 'distributions', 'district', 'diverge', 'divergence', 'divergent', 'diverse', 'diversity', 'divide', 'divided', 'dividing', 'division', 'divisionlevel', 'dixon', 'dlso', 'doctor', 'doctors', 'document', 'documentary', 'documents', 'doesn', 'domain', 'domains', 'domainspecific', 'dominated', 'domingos', 'donatsch', 'done', 'donnelly', 'dosg', 'dotted', 'double', 'douglasii', 'douglass', 'dowell', 'downloaded', 'downsampled', 'downsampling', 'downside', 'drag', 'dragging', 'dramatically', 'draw', 'drawback', 'drawbacks', 'drawn', 'dream', 'dreamcatcher', 'drift', 'drifting', 'drive', 'driven', 'driver', 'drives', 'driving', 'drop', 'dropoff', 'dropout', 'dropped', 'dropping', 'drops', 'drugs', 'drummond', 'dscovar', 'dtrl', 'dual', 'dublin', 'duckworth', 'duffy', 'dull', 'duplicated', 'duration', 'durso', 'dweck', 'dyad', 'dyads', 'dynamic', 'dynamical', 'dynamically', 'dynamics', 'dyscalculia', 'each', 'eagle', 'earlier', 'earliest', 'early', 'earning', 'earth', 'ease', 'easier', 'easily', 'easiness', 'eastwood', 'easy', 'ecml', 'ecological', 'economic', 'economics', 'economy', 'edge', 'edges', 'edited', 'edpr', 'edtech', 'education', 'educational', 'effect', 'effected', 'effective', 'effectively', 'effectiveness', 'effects', 'efficacy', 'efficiency', 'efficient', 'efficiently', 'effort', 'effortful', 'efforts', 'eggs', 'eight', 'eighth', 'either', 'ekman', 'elaborated', 'elapsed', 'elbow', 'elbows', 'elearning', 'elect', 'elective', 'electively', 'electives', 'electrical', 'electronic', 'electronics', 'elegant', 'elegantly', 'element', 'elementary', 'elements', 'elementwise', 'elicited', 'elide', 'eliding', 'eligibility', 'eligible', 'eliminate', 'eliminated', 'eliminates', 'eliminating', 'else', 'elsewhere', 'elusive', 'email', 'embedded', 'embedding', 'embeddings', 'emerge', 'emerged', 'emergence', 'emerging', 'emotient', 'emotion', 'emotional', 'emotions', 'empathic', 'empathy', 'emphasis', 'emphasize', 'emphasized', 'emphasizes', 'emphasizing', 'empirical', 'empirically', 'employ', 'employed', 'employees', 'employing', 'employs', 'empty', 'enable', 'enabled', 'enables', 'enabling', 'enamored', 'encapsulate', 'encoded', 'encoder', 'encoders', 'encodes', 'encoding', 'encodings', 'encompass', 'encountered', 'encourage', 'encouraged', 'encourages', 'encouraging', 'encyclopedia', 'endeavor', 'ended', 'ending', 'ends', 'energy', 'enforce', 'engage', 'engaged', 'engagement', 'engagement–', 'engages', 'engaging', 'engender', 'engendered', 'engendering', 'engine', 'engineering', 'engineers', 'engines', 'english', 'enhance', 'enhanced', 'enhancements', 'enhancing', 'enjoying', 'enjoyment', 'enormous', 'enough', 'enriched', 'enroll', 'enrolled', 'ensemble', 'ensure', 'ensured', 'ensures', 'ensuring', 'enter', 'entered', 'entire', 'entirely', 'entropy', 'entry', 'enumerated', 'envelope', 'environment', 'environmental', 'environments', 'episode', 'episodes', 'epistemic', 'epistemology', 'epochs', 'equal', 'equally', 'equap', 'equated', 'equation', 'equations', 'equipment', 'equipped', 'equitable', 'equivalent', 'equivocal', 'ered', 'ericsson', 'error', 'errors', 'escape', 'especially', 'essay', 'essays', 'essential', 'essentially', 'establish', 'established', 'establishing', 'esteem', 'estimate', 'estimated', 'estimates', 'estimating', 'estimation', 'ethics', 'ethnicity', 'ethz', 'euclid', 'euclidean', 'eureka', 'evaluate', 'evaluated', 'evaluating', 'evaluation', 'evaluations', 'even', 'evenly', 'evenstone', 'event', 'events', 'eventually', 'ever', 'every', 'everyday', 'everyone', 'evidence', 'evident', 'evolution', 'evolutionary', 'evolvement', 'evolves', 'evolving', 'exact', 'exactly', 'exaggerate', 'exam', 'examination', 'examine', 'examined', 'examining', 'example', 'examples', 'example–good', 'exams', 'exceeds', 'excel', 'excellent', 'except', 'exception', 'excerpt', 'excessive', 'excessively', 'exchange', 'excising', 'excitement', 'exciting', 'excluded', 'excludes', 'exclusively', 'executed', 'execution', 'exemplar', 'exercise', 'exercises', 'exhausted', 'exhaustive', 'exhibit', 'exhibited', 'exhibiting', 'exhibits', 'exist', 'existing', 'exists', 'expand', 'expanded', 'expanding', 'expect', 'expectation', 'expected', 'expecting', 'expensive', 'experience', 'experienced', 'experiencing', 'experiment', 'experimental', 'experimentally', 'experimentation', 'experimented', 'experimenter', 'experiments', 'expert', 'expertise', 'experts', 'explain', 'explained', 'explaining', 'explains', 'explanation', 'explanations', 'explanatory', 'explicit', 'explicitly', 'exploit', 'exploration', 'exploratory', 'explore', 'explored', 'explores', 'exploring', 'exponential', 'exported', 'exposed', 'exposition', 'expository', 'exposure', 'express', 'expressed', 'expression', 'expressions', 'expressive', 'expérimentale', 'extend', 'extended', 'extending', 'extends', 'extension', 'extensions', 'extensive', 'extensively', 'extent', 'external', 'externally', 'extinction', 'extra', 'extract', 'extracted', 'extracting', 'extraction', 'extractions', 'extracts', 'extreme', 'extremely', 'extremes', 'eyegaze', 'eyes', 'eyesight', 'eyetracking', 'eyetribe', 'eyex', 'faber', 'face', 'facebook', 'faces', 'facial', 'facilitate', 'facilitated', 'facilitates', 'facility', 'facing', 'fact', 'factor', 'factorial', 'factoring', 'factorization', 'factorizations', 'factors', 'facts', 'factual', 'faculty', 'fades', 'fail', 'failed', 'failing', 'failure', 'fair', 'fairly', 'falakmasir', 'falchikov', 'fall', 'falling', 'falls', 'false', 'faltings', 'familiar', 'familiarity', 'famous', 'fantasies', 'fantasy', 'fashion', 'fast', 'faster', 'fatigue', 'favor', 'favorably', 'favorite', 'fawcett', 'feasibility', 'feasible', 'feasibly', 'feature', 'features', 'feed', 'feedback', 'feedbacks', 'feedforward', 'feeds', 'feel', 'feeling', 'feelings', 'fell', 'felt', 'female', 'females', 'fenske', 'ferguson', 'fertile', 'fewer', 'fewest', 'feyzibehnagh', 'fidelity', 'field', 'fields', 'fiers', 'fifth', 'figure', 'figures', 'file', 'files', 'fill', 'filled', 'fillers', 'filling', 'film', 'films', 'filter', 'filtered', 'filtering', 'filters', 'final', 'finally', 'financial', 'find', 'finding', 'findings', 'finds', 'fine', 'finegrained', 'finest', 'fingertip', 'finish', 'finished', 'finishes', 'finishing', 'finite', 'finnigan', 'fiore', 'fired', 'first', 'fishman', 'fits', 'fitted', 'fitting', 'five', 'fivepoint', 'fixate', 'fixated', 'fixating', 'fixation', 'fixations', 'fixed', 'fixing', 'flash', 'flat', 'flexibility', 'flexible', 'flexibly', 'flight', 'floor', 'flourish', 'flow', 'fluency', 'focus', 'focused', 'focuses', 'focusing', 'fold', 'folder', 'folders', 'folding', 'foldit', 'folds', 'follow', 'followed', 'following', 'follows', 'food', 'force', 'forced', 'forces', 'forcing', 'forecasts', 'forefront', 'forest', 'foretell', 'forge', 'form', 'formal', 'formalize', 'formally', 'formance', 'format', 'formative', 'formats', 'formed', 'former', 'forms', 'formula', 'formulas', 'formulate', 'formulation', 'forth', 'fortunately', 'forty', 'forum', 'forums', 'forward', 'forwarding', 'forwards', 'foster', 'fostering', 'found', 'foundation', 'foundational', 'four', 'fourfold', 'fourth', 'fraction', 'frame', 'frames', 'framework', 'france', 'francis', 'frank', 'franklin', 'frasson', 'frazee', 'free', 'freedom', 'french', 'frequencies', 'frequency', 'frequencyinverse', 'frequent', 'frequently', 'fresh', 'freshmen', 'freshness', 'friends', 'friesen', 'frischen', 'front', 'frontier', 'frontiers', 'fronts', 'frust', 'frustrated', 'frustrating', 'frustration', 'fulfill', 'full', 'fullrl', 'fullscale', 'fully', 'function', 'functional', 'functionalities', 'functionality', 'functionals', 'functions', 'function∗', 'fundamental', 'fundamentally', 'fundamentals', 'funding', 'furthermore', 'future', 'futuristic', 'fédérale', 'gagement', 'gain', 'gained', 'gaining', 'gains', 'game', 'gameplay', 'games', 'gaming', 'gamma', 'gaps', 'garcin', 'garden', 'gate', 'gateways', 'gathering', 'gauge', 'gaussian', 'gauthier', 'gave', 'gaze', 'gazetutor', 'gašević', 'geigle', 'gema', 'gender', 'gene', 'general', 'generalizability', 'generalizable', 'generalization', 'generalize', 'generalized', 'generalizes', 'generalizing', 'generally', 'generate', 'generated', 'generates', 'generating', 'generation', 'generative', 'generic', 'genes', 'genetic', 'genuine', 'genuinely', 'geographic', 'geometric', 'geometry', 'george', 'georgia', 'germany', 'gesture', 'gestures', 'gets', 'getting', 'gibbs', 'gick', 'gilbert', 'girl', 'github', 'give', 'given', 'gives', 'giveŝ', 'giving', 'gleaned', 'gleaning', 'global', 'glorot', 'gluck', 'goal', 'goals', 'goes', 'going', 'gokturk', 'gold', 'goldberg', 'goms', 'gong', 'good', 'google', 'gordon', 'gracefully', 'grade', 'graded', 'grader', 'graders', 'grades', 'gradient', 'gradients', 'grading', 'gradual', 'gradually', 'graduate', 'graduation', 'graesser', 'grafsgaard', 'grain', 'grained', 'gram', 'grammar', 'gramming', 'grand', 'grandiose', 'grant', 'granular', 'granularities', 'granularity', 'graph', 'graphbased', 'graphical', 'graphics', 'graphs', 'grateful', 'gray', 'great', 'greater', 'greatest', 'greatly', 'greece', 'greedily', 'greedy', 'green', 'grey', 'grid', 'grit', 'gross', 'grossm', 'ground', 'grounded', 'grounding', 'group', 'grouped', 'grouping', 'groupings', 'groups', 'grow', 'growing', 'grows', 'growth', 'guarantee', 'guaranteed', 'guess', 'guessing', 'guidance', 'guide', 'guided', 'guidelines', 'guiding', 'gunter', 'gupta', 'guru', 'gurututor', 'habits', 'habitual', 'haha', 'hahaha', 'half', 'hall', 'halpin', 'halves', 'hand', 'handbook', 'handle', 'handles', 'hanley', 'happened', 'happens', 'haptek', 'hard', 'harder', 'hardest', 'hardly', 'hardware', 'haris', 'harley', 'harmful', 'harmonic', 'hatfield', 'hattie', 'hausmann', 'hawaii', 'hays', 'head', 'headphone', 'headword', 'health', 'healthcare', 'healthy', 'heard', 'heart', 'heat', 'heavily', 'heavy', 'heckerman', 'heffernan', 'hefte', 'hegarty', 'heidelberg', 'height', 'heightened', 'heim', 'heiner', 'held', 'helium', 'hellinger', 'help', 'helped', 'helpful', 'helpful–harmful–small', 'helping', 'helpless', 'helps', 'hence', 'hennis', 'here', 'hereafter', 'hershkovitz', 'heterogeneity', 'heterogeneous', 'heuristic', 'heuristics', 'hidden', 'hierarchical', 'hierarchy', 'high', 'highand', 'highdimensional', 'higher', 'highest', 'highlight', 'highlighted', 'highlighting', 'highlights', 'highly', 'highperforming', 'hinders', 'hint', 'hintcount', 'hints', 'hiring', 'hispanic', 'historical', 'histories', 'history', 'hmelo', 'hochberg', 'hold', 'holden', 'holdout', 'holds', 'holm', 'holmes', 'home', 'homepage', 'homes', 'homework', 'honestly', 'hong', 'honolulu', 'honors', 'hope', 'hopelessness', 'horizons', 'horizontal', 'hospital', 'host', 'hottest', 'hour', 'hours', 'households', 'however', 'howley', 'http', 'https', 'huang', 'huber', 'hull', 'humaine', 'human', 'humanities', 'hundred', 'hundreds', 'hurried', 'hurts', 'hutt', 'hybrid', 'hyper', 'hyperlink', 'hyperlinks', 'hypermedia', 'hyperplane', 'hypotheses', 'hypothesis', 'hypothesize', 'hypothesized', 'hypothetical', 'iafm', 'ibkt', 'icall', 'icalt', 'iccsce', 'icics', 'icmi', 'icon', 'icons', 'icwl', 'idea', 'ideal', 'ideally', 'ideas', 'identical', 'identifiable', 'identification', 'identified', 'identifier', 'identifiers', 'identifies', 'identify', 'identifying', 'identity', 'idle', 'ieee', 'ifaamas', 'iglesias', 'ignore', 'ignoring', 'ijacsa', 'ijcsi', 'illness', 'illnesshealthcare', 'illstructured', 'illstructuredness', 'illuminate', 'illustrate', 'illustrated', 'illustrates', 'illustration', 'image', 'images', 'imagine', 'imbalance', 'imbalanced', 'immediate', 'immediately', 'immersive', 'immutable', 'impact', 'impacted', 'impacting', 'impaired', 'impairs', 'imperceptible', 'imperfect', 'implement', 'implementation', 'implementations', 'implemented', 'implementing', 'implications', 'implicit', 'implicitly', 'implied', 'implies', 'imply', 'implying', 'importance', 'important', 'importantly', 'impose', 'impossible', 'impractical', 'improve', 'improved', 'improvement', 'improvements', 'improves', 'improving', 'impulse', 'imputation', 'inadequate', 'inattention', 'inattentive', 'incidental', 'include', 'included', 'includes', 'including', 'inclusion', 'incoming', 'incomplete', 'incongruent', 'inconsistent', 'incorporate', 'incorporated', 'incorporates', 'incorporating', 'incorporation', 'incorrect', 'incorrectly', 'increase', 'increased', 'increases', 'increasing', 'increasingly', 'incremental', 'incrementally', 'increments', 'incubation', 'indeed', 'independence', 'independent', 'independently', 'index', 'indexed', 'india', 'indicate', 'indicated', 'indicates', 'indicating', 'indication', 'indicative', 'indicator', 'indicators', 'indices', 'individual', 'individualization', 'individualize', 'individualized', 'individualizing', 'individually', 'individuals', 'induce', 'induced', 'inducing', 'induction', 'industrial', 'ineffective', 'inequality', 'inevitably', 'infer', 'inference', 'inferred', 'inferring', 'infers', 'inflate', 'inflation', 'influence', 'influenced', 'influences', 'influencing', 'info', 'inform', 'informatics', 'information', 'informative', 'informed', 'infrastructure', 'infrequently', 'inherently', 'inhibitor', 'init', 'initial', 'initialization', 'initialize', 'initialized', 'initially', 'initiate', 'initiated', 'initiating', 'injury', 'inner', 'innovation', 'inof', 'input', 'inputs', 'inquiry', 'inquisitive', 'inquisitively', 'insensitive', 'insert', 'inside', 'insight', 'insights', 'insignificant', 'inspiration', 'inspire', 'inspired', 'instance', 'instances', 'instant', 'instead', 'instil', 'institute', 'institutes', 'institution', 'institutions', 'instruct', 'instructed', 'instructing', 'instruction', 'instructional', 'instructions', 'instructor', 'instructorcentric', 'instructors', 'instruments', 'insufficient', 'integral', 'integrate', 'integrated', 'integrates', 'integrating', 'integration', 'intelligence', 'intelligent', 'intended', 'intensive', 'intention', 'intentional', 'inter', 'interact', 'interacted', 'interacting', 'interaction', 'interactions', 'interactive', 'interactively', 'interactivity', 'intercept', 'intercepts', 'interdisciplinary', 'interest', 'interested', 'interesting', 'interestingly', 'interests', 'interface', 'interfaces', 'interference', 'interferences', 'intermediate', 'intermixing', 'internal', 'internalizing', 'international', 'internet', 'interplay', 'interpolate', 'interpolated', 'interpolation', 'interpret', 'interpretability', 'interpretable', 'interpretation', 'interpreted', 'interpreting', 'interrupt', 'interrupted', 'interrupting', 'interruptions', 'interrupts', 'interspersed', 'interval', 'intervals', 'intervene', 'intervened', 'intervenes', 'intervening', 'intervention', 'interventions', 'interview', 'interviewed', 'intractable', 'intrinsic', 'introduce', 'introduced', 'introduces', 'introducing', 'introduction', 'introductory', 'intrusive', 'intuitive', 'intutor', 'invalid', 'invasive', 'invasiveness', 'invented', 'inverse', 'inversely', 'inverted', 'invest', 'investigate', 'investigated', 'investigates', 'investigating', 'investigation', 'investigations', 'investing', 'investment', 'invideo', 'invited', 'inviting', 'invoke', 'invoked', 'involuntary', 'involve', 'involved', 'involves', 'involving', 'ireland', 'irrelevant', 'irrespective', 'ishizuka', 'island', 'islander', 'isolate', 'isolation', 'isomorphic', 'issue', 'issues', 'istart', 'italy', 'item', 'items', 'iteractions', 'iteration', 'iterations', 'iterative', 'iteratively', 'itss', 'iuse', 'ized', 'jaccard', 'jack', 'jacob', 'jacobson', 'jakobs', 'jaques', 'jayakodi', 'jeni', 'jenny', 'jentsch', 'jerry', 'jmlr', 'jobs', 'john', 'joining', 'joint', 'joksimović', 'jonassen', 'jordan', 'journal', 'journeys', 'judgement', 'judgements', 'judges', 'july', 'june', 'june–', 'junk', 'junker', 'justified', 'justify', 'kalman', 'kappa', 'kardan', 'kaufmann', 'kdimensional', 'keen', 'keep', 'keeping', 'keeps', 'kept', 'keras', 'kernel', 'kernels', 'keyboard', 'keys', 'keystroke', 'keystrokes', 'keyword', 'keywords', 'khan', 'khoshgoftaar', 'killingsworth', 'kind', 'kinds', 'kingstone', 'kintsch', 'know', 'knowing', 'knowledge', 'known', 'koedinger', 'kong', 'kononenko', 'kopp', 'korea', 'koren', 'kovanović', 'kozat', 'kpca', 'krasich', 'krathwohl', 'kriglstein', 'kris', 'kuching', 'kullback', 'käser', 'label', 'labeled', 'labeler', 'labeling', 'labels', 'laborative', 'laboratory', 'labs', 'lack', 'lacking', 'lacks', 'laid', 'lajoie', 'lallé', 'lancet', 'landis', 'lane', 'langford', 'language', 'lapse', 'lapses', 'large', 'largely', 'larger', 'largest', 'larity', 'lasso', 'last', 'lasted', 'lasting', 'lastly', 'late', 'latency', 'latent', 'later', 'latino', 'latter', 'lauch', 'launch', 'launched', 'launching', 'lausanne', 'lavergne', 'lavine', 'layer', 'layers', 'layout', 'layouts', 'lead', 'leaderboard', 'leaderboards', 'leading', 'leads', 'leaf', 'learn', 'learned', 'learner', 'learnercentered', 'learners', 'learning', 'learningoriented', 'learnlab', 'learns', 'learnt', 'least', 'leave', 'leaves', 'leaving', 'lecture', 'lectures', 'left', 'legitimizing', 'legs', 'lehman', 'leibler', 'length', 'lengths', 'less', 'lesser', 'lester', 'letsky', 'letter', 'letters', 'level', 'leveling', 'levels', 'leverage', 'leveraged', 'leveraging', 'levinstein', 'lexical', 'libraries', 'library', 'libsvm', 'liebman', 'lieu', 'lieve', 'life', 'light', 'like', 'liked', 'likelihood', 'likelihoods', 'likely', 'likert', 'likes', 'likewise', 'liking', 'limit', 'limitation', 'limitations', 'limited', 'limits', 'line', 'linear', 'linearly', 'lines', 'lingual', 'linguistic', 'linguistics', 'link', 'linkage', 'linked', 'links', 'linucb', 'liquids', 'list', 'listed', 'listening', 'listens', 'listing', 'lists', 'literacy', 'literal', 'literature', 'literatures', 'litman', 'little', 'littlewort', 'live', 'lives', 'living', 'liwc', 'lncs', 'load', 'loading', 'loadings', 'lobata', 'local', 'locally', 'locate', 'located', 'location', 'locations', 'locus', 'logged', 'logging', 'login', 'logistic', 'logitboost', 'logitech', 'logits', 'logs', 'london', 'long', 'longer', 'longest', 'longterm', 'look', 'looked', 'looking', 'looks', 'loop', 'loops', 'loosely', 'lose', 'losing', 'loss', 'lossless', 'lost', 'louwerse', 'lower', 'lowerer', 'lowerperforming', 'lowest', 'lowscoring', 'lstm', 'lstmt', 'luna', 'lunch', 'lution', 'lynch', 'machine', 'machinelearned', 'machines', 'macro', 'macrocognition', 'made', 'madrid', 'magnitude', 'magnitudes', 'mahwah', 'mail', 'main', 'mainly', 'maintain', 'maintained', 'maintaining', 'maintenance', 'mairal', 'major', 'majority', 'majors', 'make', 'makes', 'making', 'malaysia', 'male', 'males', 'malkiewich', 'malleability', 'malleable', 'mallick', 'mammals', 'manage', 'management', 'manages', 'managing', 'mance', 'manifest', 'manifested', 'manipulate', 'manipulating', 'manipulation', 'manipulations', 'mann', 'manner', 'manual', 'manually', 'many', 'mapped', 'mapping', 'maps', 'margin', 'marginal', 'marginally', 'margins', 'markets', 'markov', 'marks', 'markus', 'martin', 'marx', 'mary', 'masaryk', 'mason', 'mass', 'massive', 'massively', 'master', 'mastered', 'mastering', 'mastery', 'match', 'matched', 'matches', 'matching', 'material', 'materially', 'materials', 'math', 'mathematical', 'mathematics', 'mathspring', 'matmat', 'matrices', 'matrix', 'matter', 'matthews', 'mavrikis', 'maximal', 'maximization', 'maximize', 'maximizes', 'maximizing', 'maximum', 'maxintrv', 'maxu', 'mclaren', 'mclaughlin', 'mcnamara', 'mcneil', 'mcquiggan', 'mdps', 'mean', 'meaning', 'meaningful', 'meanings', 'means', 'meansquared', 'measure', 'measured', 'measurement', 'measurements', 'measures', 'measuring', 'mechanical', 'mechanism', 'mechanisms', 'media', 'median', 'medians', 'mediated', 'medical', 'medicine', 'medimorec', 'medium', 'mediumsized', 'meek', 'meeting', 'melding', 'mello', 'mellon', 'member', 'members', 'memory', 'memphis', 'mental', 'mention', 'mentioned', 'mentioning', 'menu', 'menus', 'merceron', 'mercial', 'merely', 'merged', 'merging', 'merten', 'mesa', 'message', 'messages', 'messaging', 'meta', 'metacognition', 'metacognitive', 'metadata', 'metatutor', 'method', 'methodical', 'methodological', 'methodologies', 'methodology', 'methods', 'metric', 'metrics', 'metrix', 'metropolitan', 'mftci', 'mftcip', 'micarelli', 'mice', 'michener', 'michigan', 'micro', 'microbiology', 'microeconomic', 'microorganisms', 'middle', 'midwestern', 'might', 'mihaescu', 'milder', 'millar', 'miller', 'million', 'millis', 'milliseconds', 'mills', 'mind', 'mindless', 'mindset', 'mindwandering', 'mine', 'mined', 'mini', 'miniature', 'minima', 'minimal', 'minimally', 'minimization', 'minimize', 'minimized', 'minimizes', 'minimizing', 'minimum', 'mining', 'minnesota', 'minor', 'minority', 'minsplit', 'minute', 'minutes', 'mirrors', 'misaligned', 'miscellaneous', 'misclassified', 'mislabeling', 'misleading', 'mislevy', 'miss', 'missing', 'mistake', 'mistakes', 'mitigates', 'mitigating', 'mitros', 'mitrovic', 'mixed', 'mixing', 'mixture', 'mixtures', 'mobile', 'mobilelearning', 'modal', 'mode', 'model', 'modeled', 'modeler', 'modelfree', 'modeling', 'modelling', 'models', 'moderate', 'modern', 'modes', 'modest', 'modification', 'modifications', 'modified', 'modify', 'modulated', 'module', 'modules', 'mold', 'molecules', 'moments', 'money', 'monitor', 'monitoring', 'monitorrecommend', 'month', 'montréal', 'mooc', 'moocs', 'mooneyham', 'more', 'moreno', 'moreover', 'morgan', 'mortar', 'mostly', 'mostow', 'motion', 'motivate', 'motivated', 'motivating', 'motivation', 'motivational', 'motivations', 'motor', 'mott', 'mould', 'mouse', 'move', 'moved', 'movement', 'movements', 'moves', 'movie', 'moving', 'mrazek', 'mtfci', 'mturk', 'much', 'mudrick', 'muir', 'multi', 'multiagent', 'multicollinearity', 'multidimensional', 'multidisciplinary', 'multimedia', 'multimodal', 'multinomial', 'multiple', 'multiplechoice', 'multiplic', 'multiplication', 'multiplied', 'multivariate', 'multiview', 'muni', 'music', 'musical', 'must', 'mute', 'muth', 'mutual', 'mwixon', 'myopic', 'naive', 'naively', 'najar', 'name', 'named', 'namely', 'names', 'nanodegrees', 'naomi', 'narcissistic', 'narrative', 'narrativity', 'narrow', 'narrowing', 'narrowly', 'nash', 'national', 'native', 'natively', 'natural', 'naturalization', 'naturally', 'nature', 'naval', 'navigate', 'navigated', 'navigating', 'navigation', 'naïve', 'ncorrectpsstepsincelastwrongkcsession', 'ncsu', 'near', 'nearest', 'nearly', 'necessarily', 'necessary', 'necessitates', 'necesssary', 'need', 'needed', 'needs', 'negative', 'negatively', 'negatives', 'negativity', 'neglected', 'negligible', 'negligibly', 'neighbor', 'neighborhood', 'neighbors', 'neither', 'nested', 'netflix', 'network', 'networks', 'neucom', 'neumann', 'neural', 'neurocomputing', 'neuropsychological', 'neuroscience', 'never', 'nevertheless', 'newer', 'newlevel', 'newline', 'newly', 'news', 'newtonian', 'next', 'ngram', 'nine', 'niter', 'nitera', 'niteruv', 'nixon', 'node', 'nodes', 'noise', 'noisy', 'noncausal', 'noncontent', 'none', 'nonell', 'nonetheless', 'nonindividualized', 'nonisomorphic', 'nonlinear', 'nonlinearly', 'nonnegativity', 'nonnormalized', 'nonpersonalized', 'nontraditional', 'noregret', 'norm', 'normal', 'normalization', 'normalized', 'normally', 'normative', 'north', 'northeastern', 'northstar', 'nose', 'notable', 'notably', 'notation', 'notations', 'note', 'noted', 'notes', 'nothing', 'notice', 'noticed', 'notion', 'notions', 'nouns', 'novel', 'novelty', 'november', 'novice', 'novices', 'nstepsincelastwrongkc', 'nuance', 'nuanced', 'nuances', 'nuclear', 'nucleus', 'null', 'nulty', 'number', 'numbers', 'numeric', 'numerical', 'numerous', 'nurse', 'nursing', 'nwesinceps', 'nwestepsincelastwrong', 'obfuscating', 'object', 'objective', 'objectives', 'obonsawin', 'observable', 'observably', 'observation', 'observations', 'observe', 'observed', 'observing', 'obsolete', 'obstacles', 'obtain', 'obtained', 'obtaining', 'obtains', 'obvious', 'obviously', 'occasional', 'occasionally', 'occluded', 'occur', 'occurred', 'occurrence', 'occurrences', 'occurring', 'occurs', 'ochiai', 'octave', 'october', 'ocumpaugh', 'odds', 'oder', 'offer', 'offered', 'offering', 'offers', 'office', 'offline', 'offs', 'offset', 'offsets', 'often', 'oftentimes', 'ofthe', 'okay', 'olde', 'olney', 'omar', 'omit', 'oneparticipant', 'ones', 'ongoing', 'online', 'onto', 'opacity', 'open', 'opened', 'openended', 'opening', 'operate', 'operated', 'operates', 'operating', 'operation', 'operationalized', 'operations', 'operator', 'operators', 'opinion', 'opinions', 'opportunities', 'opportunity', 'opposed', 'opposite', 'opted', 'optima', 'optimal', 'optimization', 'optimize', 'optimized', 'optimizes', 'option', 'optional', 'options', 'orange', 'order', 'ordered', 'orders', 'organic', 'organism', 'organisms', 'organization', 'organize', 'organized', 'orientation', 'oriented', 'origin', 'original', 'originally', 'orlando', 'orlowska', 'orthographic', 'osgood', 'oswald', 'others', 'otherwise', 'outcome', 'outcomes', 'outdoor', 'outdoors', 'outlier', 'outliers', 'outline', 'outlined', 'outlines', 'outlying', 'outperform', 'outperformed', 'outperforming', 'outperforms', 'output', 'outputs', 'outranked', 'outside', 'overall', 'overcome', 'overfit', 'overfitting', 'overlaid', 'overlap', 'overlapped', 'overlapping', 'overlooked', 'overly', 'overor', 'oversampling', 'overt', 'overuse', 'overview', 'overwhelmed', 'overwhelming', 'overwhelmingly', 'ownership', 'paced', 'pacific', 'package', 'page', 'pages', 'paid', 'pain', 'pair', 'paired', 'pairs', 'pairwise', 'pair∗', 'palette', 'panel', 'panourgia', 'papadourakis', 'paper', 'papers', 'paradigm', 'paragraphs', 'parallel', 'parameter', 'parameters', 'parametric', 'parametrization', 'parametrize', 'parametrized', 'paramount', 'pardos', 'parent', 'parentheses', 'parenthesis', 'parenthesized', 'parents', 'paris', 'parisian', 'parlance', 'part', 'partial', 'partially', 'participant', 'participants', 'participate', 'participated', 'participating', 'participation', 'particular', 'particularly', 'partition', 'partitioned', 'partitions', 'partly', 'partner', 'parts', 'pass', 'passed', 'passing', 'passion', 'passive', 'passive–active', 'password', 'past', 'path', 'paths', 'pathways', 'patient', 'patients', 'pattern', 'patterns', 'pause', 'paused', 'pauses', 'pausing', 'pavlik', 'paying', 'payoffs', 'pearson', 'pechenizkiy', 'pedagogical', 'pedagogies', 'pedagogy', 'peer', 'peers', 'pekrun', 'pelanek', 'pelánek', 'penalize', 'penalizing', 'penang', 'pennebaker', 'people', 'perceived', 'percentage', 'percentages', 'perception', 'perceptions', 'perceptual', 'perfect', 'perfetti', 'perfor', 'perforamance', 'perfordents', 'perform', 'performance', 'performanceapproach', 'performances', 'performed', 'performers', 'performing', 'performs', 'perform…', 'perhaps', 'period', 'periodic', 'periodically', 'periods', 'perseverance', 'persist', 'persistence', 'person', 'personal', 'personalgrouped', 'personality', 'personalization', 'personalized', 'personalizes', 'personalizing', 'personnel', 'perspective', 'perspectives', 'pertained', 'pertaining', 'pervasiveness', 'pessimism', 'pete', 'peter', 'pham', 'phase', 'phases', 'phenomena', 'phenomenon', 'philosophy', 'phone', 'phones', 'photoplethysmography', 'phrase', 'phrases', 'physical', 'physics', 'physiological', 'physiology', 'picked', 'picking', 'picture', 'piece', 'piecewise', 'piech', 'piergallini', 'pine', 'pipeline', 'pitfall', 'pittsburgh', 'pixel', 'pixels', 'place', 'placed', 'placements', 'plan', 'plane', 'planner', 'planners', 'planning', 'plans', 'plant', 'plants', 'plass', 'platform', 'platforms', 'play', 'playback', 'played', 'player', 'players', 'playing', 'playlist', 'playlists', 'plays', 'playtracer', 'pleased', 'plenty', 'plethora', 'plos', 'plot', 'plots', 'plotted', 'point', 'pointed', 'points', 'poised', 'poitras', 'poles', 'polices', 'policies', 'policy', 'polygon', 'polynomial', 'polytechnique', 'polyzou', 'ponce', 'pontificate', 'pool', 'pooling', 'poor', 'poorly', 'popular', 'popularity', 'population', 'populations', 'portion', 'portions', 'pose', 'posed', 'poses', 'posing', 'positing', 'position', 'positioned', 'positive', 'positively', 'positives', 'possessing', 'possibilities', 'possibility', 'possible', 'possibly', 'post', 'poster', 'posterior', 'posters', 'postpruning', 'posts', 'posttest', 'posttests', 'potential', 'potentially', 'poverty', 'power', 'powerful', 'practical', 'practically', 'practice', 'practiced', 'practices', 'practicing', 'pragmatic', 'praised', 'preand', 'preceding', 'precious', 'precise', 'precisely', 'precision', 'predecessor', 'predefined', 'predetermined', 'predicated', 'prediciton', 'predict', 'predictable', 'predicted', 'predicting', 'prediction', 'predictions', 'predictive', 'predictor', 'predictors', 'predicts', 'predispositions', 'preemptive', 'prefer', 'preference', 'preferences', 'preliminaries', 'preliminary', 'prematurely', 'preparation', 'preparations', 'prepare', 'prepared', 'preparing', 'prepost', 'prerequisite', 'prerequisites', 'prescriptive', 'presence', 'present', 'presentation', 'presented', 'presenting', 'presently', 'presents', 'preserved', 'preserving', 'press', 'pressing', 'presumably', 'pretest', 'pretests', 'prevalence', 'prevent', 'preventing', 'prevents', 'previous', 'previously', 'prey', 'pride', 'primarily', 'primary', 'primer', 'princeton', 'principal', 'principle', 'principled', 'principles', 'print', 'prior', 'priori', 'prioritized', 'priority', 'priors', 'privacy', 'private', 'prize', 'proactively', 'probabilistic', 'probabilistically', 'probabilities', 'probability', 'probably', 'probdiff', 'probe', 'probes', 'probity', 'problem', 'problematic', 'problemj', 'problems', 'problemsolving', 'problem∗', 'procedural', 'procedure', 'procedures', 'proceed', 'proceeded', 'proceedings', 'proceeds', 'process', 'processed', 'processes', 'processing', 'produce', 'produced', 'produces', 'producing', 'product', 'production', 'productive', 'productivity', 'products', 'professional', 'proficiency', 'profiles', 'program', 'programmatically', 'programming', 'programs', 'progress', 'progresses', 'progressing', 'progression', 'progressions', 'prohibitive', 'project', 'projected', 'projecting', 'projection', 'prominent', 'promise', 'promising', 'promote', 'promotes', 'promoting', 'prompt', 'prompted', 'prompting', 'prompts', 'prone', 'pronounced', 'proof', 'propagate', 'propagation', 'properly', 'properties', 'property', 'proportion', 'proportional', 'proportionalized', 'proportions', 'proposals', 'propose', 'proposed', 'prospects', 'protein', 'proteins', 'protocol', 'protocols', 'prototype', 'proved', 'proves', 'provide', 'provided', 'provides', 'providing', 'provision', 'proximity', 'proxy', 'prudent', 'prune', 'pruned', 'pruning', 'pscount', 'pseudo', 'psyc', 'psychol', 'psycholinguistic', 'psychological', 'psychologie', 'psychologist', 'psychology', 'psychometric', 'psychonomic', 'public', 'publication', 'publicly', 'published', 'publishers', 'publishing', 'pull', 'punctuation', 'pupil', 'pupillometry', 'purchase', 'purely', 'purple', 'purpose', 'purposes', 'pursue', 'pursued', 'pursuing', 'push', 'pushing', 'putting', 'puzzle', 'puzzles', 'pyramid', 'pyrenees', 'qmatrix', 'qualified', 'quality', 'quantification', 'quantified', 'quantify', 'quantifying', 'quantile', 'quantitative', 'quantities', 'quantity', 'quarterly', 'quartiles', 'quercus', 'queried', 'query', 'question', 'questionable', 'questionnaires', 'questions', 'question–concept', 'quickly', 'quiet', 'quintessential', 'quit', 'quite', 'quiz', 'quizzes', 'race', 'radar', 'radek', 'radial', 'radiology', 'raise', 'raiser', 'raises', 'raising', 'raleigh', 'rand', 'randall', 'random', 'randomized', 'randomly', 'randomness', 'range', 'ranged', 'ranges', 'ranging', 'rank', 'ranked', 'rankings', 'ranks', 'ranksum', 'rapid', 'rapidly', 'rapp', 'rapport', 'rare', 'rarely', 'rasch', 'rate', 'ratechange', 'rated', 'rater', 'raters', 'rates', 'rather', 'rating', 'ratings', 'ratio', 'ration', 'ratios', 'ratiô', 'rayner', 'reach', 'reached', 'reaches', 'reaching', 'reaction', 'reactive', 'read', 'readable', 'reader', 'readers', 'readily', 'reading', 'readings', 'ready', 'real', 'realistic', 'reality', 'realization', 'realize', 'realized', 'realizing', 'realm', 'realtime', 'realworld', 'reason', 'reasonable', 'reasonably', 'reasoning', 'reasons', 'recall', 'receipt', 'receive', 'received', 'receiver', 'receives', 'receiving', 'recency', 'recent', 'recently', 'reception', 'recipe', 'recipes', 'recoded', 'recognition', 'recognize', 'recognized', 'recommend', 'recommendation', 'recommendations', 'recommended', 'recommender', 'recommending', 'recommends', 'reconstruct', 'reconstructed', 'reconstruction', 'reconstructs', 'record', 'recorded', 'recording', 'recordings', 'records', 'recruited', 'rectified', 'recurrent', 'recursion', 'recursive', 'recursively', 'recycle', 'recycling', 'redesign', 'redesigned', 'redirect', 'redirecting', 'reduce', 'reduced', 'reduces', 'reducing', 'reduction', 'redundancy', 'reengaging', 'refer', 'referenced', 'references', 'referential', 'referred', 'refers', 'refine', 'refined', 'refinement', 'refining', 'reflect', 'reflected', 'reflection', 'reflective', 'reflects', 'reformulating', 'refresh', 'refreshing', 'regard', 'regarding', 'regardless', 'regimented', 'regions', 'register', 'registered', 'regression', 'regret', 'regular', 'regularities', 'regularization', 'regularized', 'regularizes', 'regularly', 'regulate', 'regulated', 'regulating', 'regulation', 'regulatory', 'reichle', 'reinchard', 'reineberg', 'reinforcement', 'rejected', 'rejection', 'relate', 'related', 'relates', 'relation', 'relations', 'relationship', 'relationships', 'relative', 'relatively', 'relaxing', 'relevance', 'relevant', 'reliability', 'reliable', 'reliably', 'reliance', 'relied', 'relief', 'relieff', 'relies', 'reloads', 'relu', 'rely', 'relying', 'remain', 'remainder', 'remained', 'remaining', 'remains', 'remarks', 'remedial', 'remediate', 'remediation', 'remember', 'remembering', 'remote', 'removal', 'remove', 'removed', 'removes', 'removing', 'render', 'rendered', 'renders', 'reorient', 'reorienting', 'repeat', 'repeated', 'repeatedly', 'repeating', 'repeats', 'repetition', 'repetitive', 'replace', 'replaced', 'replacing', 'replay', 'replayability', 'replayed', 'replaying', 'replays', 'replicate', 'replication', 'replications', 'replies', 'reply', 'report', 'reported', 'reporting', 'reports', 'repository', 'represent', 'representation', 'representational', 'representations', 'representative', 'representatives', 'represented', 'representing', 'represents', 'reproducible', 'republic', 'request', 'requested', 'requesting', 'require', 'required', 'requirement', 'requirements', 'requires', 'requiring', 'requisite', 'reread', 'rereading', 'resampling', 'research', 'researched', 'researchers', 'reshape', 'reshness', 'reside', 'residual', 'resolve', 'resources', 'resp', 'respect', 'respective', 'respectively', 'respectively∗', 'respects', 'respond', 'responded', 'respondents', 'responding', 'response', 'responses', 'responsetime', 'responsible', 'rest', 'restart', 'restore', 'restrict', 'restricted', 'restriction', 'result', 'resultant', 'resulted', 'resulting', 'results', 'retain', 'retained', 'retention', 'rethinking', 'retrain', 'retrained', 'retraining', 'retrieval', 'returned', 'returns', 'reuse', 'revamp', 'reveal', 'revealed', 'reveals', 'review', 'reviewed', 'reviewer', 'reviewers', 'reviewing', 'reviews', 'revise', 'revised', 'revising', 'revision', 'revisit', 'revisited', 'revue', 'reward', 'rewards', 'rewinding', 'rewinds', 'rich', 'richer', 'richly', 'right', 'rightapp', 'risk', 'risko', 'risks', 'ritter', 'ritterfeld', 'rivera', 'rlinduced', 'rmse', 'robison', 'robust', 'robustness', 'rock', 'roda', 'role', 'roles', 'roll', 'romero', 'room', 'rooms', 'root', 'rooted', 'rose', 'rosen', 'rosenblatt', 'rosettacommons', 'rosé', 'roughly', 'rounds', 'route', 'routine', 'routines', 'routledge', 'rowe', 'rows', 'rpart', 'rubber', 'rubric', 'rubrics', 'ruis', 'rule', 'rules', 'running', 'runs', 'rupp', 'rupted', 'rush', 'rushing', 'rutherford', 'saar', 'sabourin', 'saccade', 'saccades', 'said', 'salas', 'salient', 'samei', 'sample', 'sampled', 'samples', 'sampling', 'sangodiah', 'santos', 'santra', 'sapiro', 'sarawak', 'satisfactory', 'satisfy', 'save', 'saving', 'savings', 'sawyer', 'sbspro', 'scaffold', 'scaffolded', 'scaffolding', 'scaffolds', 'scala', 'scalability', 'scalable', 'scalar', 'scale', 'scales', 'scales–good', 'scale–good', 'scaling', 'scanning', 'scenario', 'scenarios', 'schacter', 'schapire', 'schedule', 'scheme', 'scholand', 'school', 'schooler', 'schools', 'schroeder', 'schwartz', 'science', 'sciences', 'scientific', 'scikit', 'scope', 'scopes', 'score', 'scorebased', 'scored', 'scores', 'scoring', 'scratched', 'screen', 'screens', 'screenshot', 'scripts', 'scroll', 'scrolling', 'seamless', 'search', 'searching', 'second', 'secondarily', 'secondary', 'seconds', 'section', 'sections', 'secure', 'security', 'seeing', 'seek', 'seeking', 'seeks', 'seem', 'seemed', 'seems', 'seen', 'segment', 'segmentation', 'segmenting', 'segments', 'select', 'selected', 'selecting', 'selection', 'selections', 'selective', 'selects', 'self', 'selfexplaining', 'selfgenerated', 'selfregulated', 'selfreported', 'selfreports', 'selves', 'semantic', 'semantically', 'semantics', 'semeraro', 'semester', 'semesters', 'semi', 'semisupervised', 'send', 'sens', 'sense', 'sensed', 'sensible', 'sensing', 'sensitive', 'sensitivity', 'sensor', 'sensors', 'sentence', 'sentences', 'sentiment', 'seoul', 'separable', 'separate', 'separated', 'separately', 'separates', 'separating', 'sequence', 'sequences', 'sequencing', 'sequential', 'sequentially', 'series', 'serious', 'serve', 'served', 'serves', 'service', 'services', 'serving', 'session', 'sessions', 'sets', 'setšesky', 'setting', 'settings', 'setup', 'seven', 'seventh', 'several', 'severe', 'sewall', 'sexual', 'shaffer', 'shall', 'shallow', 'shame', 'shani', 'shape', 'share', 'shared', 'shares', 'sharing', 'sharp', 'sharply', 'shed', 'sheets', 'shelf', 'shen', 'shift', 'shifts', 'shmueli', 'shore', 'short', 'shortcomings', 'shortened', 'shorter', 'shortterm', 'shot', 'shotterm', 'show', 'showed', 'showing', 'shown', 'shows', 'shrinkage', 'shrinks', 'shtarkov', 'shute', 'sibert', 'sick', 'side', 'sidered', 'sides', 'siebert', 'sigchi', 'sigma', 'sigmoid', 'sign', 'signal', 'signals', 'significance', 'significances', 'significant', 'significantly', 'signify', 'signing', 'silently', 'silhouettes', 'silver', 'simi', 'similar', 'similarities', 'similarity', 'similarly', 'simma', 'simon', 'simple', 'simpler', 'simplest', 'simplicity', 'simplified', 'simplify', 'simplifying', 'simply', 'simulate', 'simulated', 'simulation', 'simulations', 'simultaneously', 'since', 'sine', 'singapore', 'singer', 'single', 'singular', 'situate', 'situation', 'situational', 'situations', 'sixty', 'sizable', 'size', 'sized', 'sizefits', 'sizes', 'skew', 'skewed', 'skill', 'skilled', 'skillful', 'skilli', 'skills', 'skill̂', 'skimming', 'skip', 'skipped', 'skipping', 'skive', 'skrypnyk', 'slavin', 'slfn', 'slfns', 'slider', 'sliding', 'slight', 'slightly', 'slip', 'slipping', 'slna', 'slope', 'slopes', 'slow', 'slowly', 'small', 'smaller', 'smallest', 'smallwood', 'smarter', 'smartphone', 'smartphones', 'smilek', 'smith', 'smoothed', 'smote', 'snapshot', 'snapshots', 'snippet', 'soap', 'social', 'socially', 'society', 'socio', 'socioaffective', 'sociology', 'soft', 'software', 'sokal', 'solely', 'solid', 'solo', 'solution', 'solutions', 'solve', 'solved', 'solver', 'solvers', 'solving', 'someone', 'something', 'sometimes', 'somewhat', 'somewhere', 'soon', 'sooo', 'sophisticated', 'sophistication', 'sorted', 'sorting', 'sosg', 'sottilare', 'sought', 'sounded', 'sounds', 'source', 'sources', 'south', 'southern', 'space', 'spaces', 'spacing', 'spain', 'span', 'spanning', 'sparfa', 'spark', 'sparse', 'sparsely', 'sparsity', 'spatial', 'spawned', 'speaking', 'spearman', 'special', 'specialization', 'specialized', 'species', 'specific', 'specifically', 'specificity', 'specified', 'specifies', 'specify', 'speech', 'speed', 'speedily', 'speeding', 'spelling', 'spend', 'spending', 'spent', 'sperm', 'spinners', 'spinning', 'split', 'spliting', 'splits', 'spoken', 'sponses', 'spontaneous', 'spreads', 'spring', 'springer', 'square', 'squared', 'squares', 'srivihok', 'ssae', 'stability', 'stable', 'staff', 'stage', 'stages', 'stakes', 'stall', 'stamper', 'stand', 'standard', 'standardized', 'standards', 'stands', 'stanford', 'stanza', 'star', 'start', 'started', 'starting', 'starts', 'state', 'stated', 'statement', 'statements', 'states', 'static', 'stationary', 'statistic', 'statistical', 'statistically', 'statistics', 'statistische', 'stats', 'status', 'stay', 'stayed', 'staying', 'stays', 'stem', 'stemmed', 'stems', 'step', 'steps', 'stewart', 'stifle', 'still', 'stimuli', 'stimulus', 'stimulusindependent', 'stipends', 'stmath', 'stochastic', 'stochastically', 'stone', 'stop', 'stopped', 'stops', 'stopwords', 'store', 'stored', 'stores', 'stories', 'story', 'straightforward', 'strategic', 'strategies', 'strategizer', 'strategy', 'stratified', 'stream', 'strength', 'strengthened', 'strengths', 'stress', 'strictly', 'strike', 'striking', 'striving', 'strong', 'stronger', 'strongest', 'strongly', 'stroudsburg', 'structural', 'structure', 'structured', 'structuredness', 'structures', 'struggled', 'struggling', 'stuck', 'student', 'studentindependent', 'studentinitiated', 'studentobjective', 'studentparameter', 'students', 'student–adaptive', 'studied', 'studies', 'studio', 'study', 'studying', 'style', 'styles', 'subgoal', 'subgoals', 'subgroups', 'subject', 'subjective', 'subjects', 'submission', 'submits', 'submitted', 'suboptimal', 'subsequent', 'subsequently', 'subseries', 'subset', 'subsets', 'substantially', 'substantive', 'substantively', 'substituting', 'subtitles', 'subtle', 'subtracting', 'subtraction', 'subtractionlevel', 'subtype', 'succ', 'succeed', 'succeeded', 'success', 'successful', 'successfully', 'successively', 'sudberry', 'suffer', 'suffering', 'sufficient', 'sufficiently', 'suffix', 'suffixes', 'suggest', 'suggested', 'suggesting', 'suggestion', 'suggestive', 'suggests', 'suitable', 'suite', 'suited', 'sukonmanee', 'summaries', 'summarization', 'summarize', 'summarized', 'summarizes', 'summarizing', 'summary', 'summation', 'summative', 'summatively', 'summed', 'sums', 'superior', 'superiority', 'supersede', 'superseded', 'supervised', 'supplement', 'supplemental', 'supplementary', 'support', 'supported', 'supporting', 'supports', 'supposed', 'suppression', 'supscriptt', 'sure', 'surface', 'surgical', 'surpass', 'surprising', 'surprisingly', 'surrounding', 'survey', 'surveys', 'sustainable', 'sustained', 'svarovsky', 'svms', 'swapping', 'sweeney', 'swiecki', 'swiping', 'swiss', 'swissinfo', 'switzerland', 'symbols', 'symmetrically', 'symposium', 'synchronized', 'synchronously', 'synonym', 'synonymselection', 'syntactic', 'syntactical', 'syntax', 'synthesis', 'synthesize', 'synthetic', 'syst', 'system', 'systematic', 'systematically', 'systems', 'szpunar', 'sárközy', 'table', 'tables', 'tablet', 'tablets', 'tackle', 'tactic', 'tagging', 'tail', 'tailed', 'tailor', 'tailored', 'tailormade', 'take', 'taken', 'takes', 'taking', 'tale', 'talk', 'talked', 'tall', 'tanh', 'tanja', 'tapping', 'taps', 'target', 'targeted', 'targeting', 'targets', 'taruther', 'tasa', 'task', 'taskbar', 'tasked', 'tasks', 'taub', 'taught', 'tausczik', 'taxonomy', 'taylor', 'teach', 'teacher', 'teachers', 'teaches', 'teaching', 'team', 'teams', 'tech', 'technical', 'technique', 'techniques', 'technologies', 'technologists', 'technology', 'tells', 'temporal', 'tempt', 'tempts', 'tencrossing', 'tend', 'tended', 'tendency', 'tends', 'tension', 'tensor', 'tensorflowtm', 'teomara', 'terface', 'term', 'terminate', 'terminates', 'terminology', 'terms', 'tertiary', 'test', 'testbed', 'tested', 'testing', 'tests', 'texas', 'text', 'textbook', 'textbooks', 'texts', 'textual', 'thank', 'thanks', 'that', 'theart', 'theater', 'theme', 'themes', 'theorem', 'theoretical', 'theoretically', 'theories', 'theory', 'there', 'thereby', 'therefore', 'thesis', 'thin', 'thing', 'things', 'think', 'thinking', 'third', 'thirds', 'this', 'thomas', 'thorough', 'thoroughly', 'though', 'thought', 'thoughts', 'thousand', 'thousands', 'thread', 'threads', 'threaten', 'threatened', 'three', 'threshold', 'thresholding', 'thresholds', 'throughout', 'thus', 'tick', 'ticks', 'tied', 'tier', 'tiffany', 'tight', 'tightener', 'time', 'timeinsession', 'timeliness', 'timely', 'timer', 'times', 'timescale', 'timestamp', 'timesvd', 'timevarying', 'timing', 'timperley', 'tinuous', 'tion', 'tirri', 'tist', 'titles', 'tjalkens', 'tkaeser', 'tobii', 'today', 'together', 'tokens', 'told', 'tolerance', 'tony', 'took', 'tool', 'toolbox', 'toolkit', 'tools', 'topic', 'topics', 'toronto', 'tors', 'tospeech', 'total', 'totalpstime', 'touchstone', 'touted', 'toward', 'towards', 'trace', 'tracing', 'track', 'tracked', 'tracker', 'trackers', 'tracking', 'tracks', 'tractable', 'trade', 'tradeoff', 'traditional', 'traditionally', 'train', 'trained', 'training', 'traitbased', 'traits', 'trajectories', 'trajectory', 'transactions', 'transductive', 'transfer', 'transferred', 'transferring', 'transform', 'transformation', 'transformations', 'transformed', 'transforming', 'transforms', 'transiting', 'transition', 'transitioning', 'transitions', 'translates', 'translating', 'translations', 'transparent', 'transportation', 'transpose', 'transversal', 'traum', 'travel', 'treat', 'treated', 'treating', 'treatment', 'treats', 'tree', 'trees', 'trend', 'trends', 'trendy', 'trentino', 'trento', 'trevors', 'trial', 'trials', 'triangle', 'triangles', 'tribe', 'tried', 'trigger', 'triggered', 'triggers', 'trimming', 'trims', 'trinity', 'trip', 'triples', 'trips', 'trivedi', 'trivial', 'true', 'trust', 'truth', 'trying', 'tsai', 'tsechansky', 'tune', 'tuned', 'tuning', 'tuple', 'turk', 'turn', 'turned', 'turning', 'turns', 'tutor', 'tutored', 'tutorial', 'tutoring', 'tutors', 'tuulos', 'twenty', 'twice', 'twostate', 'type', 'typed', 'typeface', 'types', 'typical', 'typically', 'typing', 'tóth', 'ubiquitous', 'udacity', 'ultimate', 'ultimately', 'umap', 'umass', 'umimecesky', 'unable', 'unaltered', 'unbiased', 'uncertainty', 'uncle', 'unclear', 'uncovered', 'underdetermined', 'undergoing', 'undergraduate', 'undergraduates', 'underlined', 'underlying', 'underrecognized', 'undersampled', 'underscoring', 'understand', 'understandable', 'understanding', 'understood', 'undertook', 'underwent', 'undoes', 'unengaged', 'unfamiliar', 'unfolds', 'unfortunately', 'unhappy', 'unicode', 'uniformly', 'unilateral', 'uninformative', 'unintended', 'uninteresting', 'uninterrupted', 'unique', 'unit', 'united', 'units', 'univariate', 'universal', 'universally', 'universities', 'university', 'unix', 'unknown', 'unlabeled', 'unless', 'unlike', 'unnecessary', 'unobserved', 'unrealistic', 'unrelated', 'unreliable', 'unseen', 'unsolved', 'unsuitable', 'unsupervised', 'unsure', 'unsurprising', 'untaken', 'untrained', 'unusual', 'unweighted', 'upcoming', 'update', 'updated', 'updates', 'updating', 'upmost', 'upon', 'upper', 'upvote', 'urban', 'usable', 'usage', 'used', 'useful', 'usefulness', 'user', 'username', 'users', 'uses', 'using', 'usual', 'usually', 'utility', 'utilization', 'utilize', 'utilized', 'utilizing', 'utterance', 'utterances', 'utters', 'vaes', 'vague', 'valence', 'valid', 'validate', 'validated', 'validates', 'validating', 'validation', 'validity', 'valuable', 'value', 'valued', 'values', 'vanishingly', 'vanlehn', 'variability', 'variable', 'variableorder', 'variables', 'variance', 'variances', 'variants', 'variational', 'variations', 'varied', 'varies', 'variety', 'various', 'vary', 'varying', 'vasile', 'vassileva', 'vast', 'vayssiers', 'vector', 'vectorization', 'vectorized', 'vectors', 'vegetation', 'velocity', 'venice', 'ventura', 'verbal', 'verbatim', 'verbs', 'verify', 'verifying', 'verlag', 'versa', 'version', 'versions', 'versus', 'vertical', 'viability', 'vice', 'vicious', 'vide', 'video', 'videos', 'videowatching', 'view', 'viewed', 'viewing', 'views', 'vigilance', 'violated', 'virtual', 'visible', 'vision', 'visit', 'visited', 'visiting', 'visual', 'visualization', 'visualizationbased', 'visualizations', 'visualize', 'visualized', 'visualizes', 'visualizing', 'visually', 'vital', 'vmin', 'vmms', 'vocabularies', 'vocabulary', 'voice', 'volinsky', 'voltage', 'volume', 'volumes', 'voluntary', 'vorderer', 'vries', 'vulnerable', 'waiting', 'waitpages', 'walk', 'wallner', 'wander', 'wandering', 'wanes', 'wang', 'waning', 'want', 'wanted', 'ward', 'warm', 'warner', 'warning', 'warranted', 'warrants', 'washington', 'wass', 'watch', 'watched', 'watches', 'watching', 'ways', 'weak', 'weaker', 'weakness', 'wears', 'webb', 'webcam', 'webcams', 'webmail', 'website', 'websites', 'week', 'weeks', 'weibelzahl', 'weight', 'weightage', 'weightages', 'weighted', 'weighting', 'weightings', 'weights', 'weka', 'well', 'wellknown', 'weren', 'western', 'westlund', 'weston', 'whatever', 'wheel', 'wheelspinning', 'whenever', 'where', 'whereas', 'whereby', 'wherever', 'whether', 'white', 'whitepaper', 'whitney', 'whitten', 'whole', 'whose', 'wide', 'widely', 'wider', 'width', 'wiese', 'wiggle', 'willems', 'william', 'williams', 'willing', 'window', 'windowed', 'windows', 'winslow', 'winsorization', 'wise', 'wish', 'with', 'within', 'withinand', 'withincluster', 'withintutor', 'without', 'wixon', 'women', 'wondered', 'woody', 'word', 'wording', 'wordings', 'wordnet', 'words', 'work', 'workbench', 'worked', 'worker', 'workers', 'workhorses', 'working', 'works', 'workshop', 'workshops', 'workstations', 'world', 'worse', 'worst', 'worth', 'wosnitza', 'would', 'wrinkle', 'wrinkler', 'write', 'writing', 'writng', 'written', 'wrong', 'wuhan', 'xiang', 'yacef', 'yahya', 'yang', 'yaniv', 'yeah', 'year', 'years', 'yellow', 'yield', 'yielded', 'yielding', 'yields', 'yoked', 'yokedcontrol', 'yona', 'york', 'young', 'yousef', 'yudelson', 'yuen', 'yule', 'zacks', 'zagreb', 'zapata', 'zealand', 'zeitler', 'zero', 'zeros', 'zhang', 'zhao', 'zhuhai', 'zimdars', 'zone', 'zoning', 'ztransform', 'zurich', '±', '·', '×', 'école', '˜', 'λkak', '–', '—', '‘amount', '‘homework', '‘large', '‘lives', '•', '↑', '→', '∆', '∈', '∗', '∞', '≤', '≥', '≺', '●', '●●', '\\uf0b7', '𝑃𝑟𝑒𝑐𝑖𝑠𝑖𝑜𝑛', '𝑅𝑒𝑐𝑎𝑙𝑙', '𝑔𝑎𝑖𝑛', '𝑚𝑒𝑎𝑠𝑢𝑟𝑒', '𝑝𝑜𝑠𝑡𝑡𝑒𝑠𝑡', '𝑝𝑟𝑒𝑐𝑖𝑠𝑖𝑜𝑛', '𝑝𝑟𝑒𝑡𝑒𝑠𝑡', '𝑟𝑒𝑐𝑎𝑙𝑙', '𝑠𝑐𝑜𝑟𝑒']\n"
     ]
    }
   ],
   "source": [
    "# 13) create a function that takes in a list of documents\n",
    "# and returns a set of unique words. Make sure that you\n",
    "# sort the list alphabetically before returning it. \n",
    "\n",
    "def get_vocabulary(documents):\n",
    "    voc = []\n",
    "    for document in documents:\n",
    "        for word in document.split():\n",
    "            if word not in voc:\n",
    "                voc.append(word)\n",
    "    voc.sort()\n",
    "    return voc\n",
    "\n",
    "\n",
    "# Then print the length of your vocabulary (it should be \n",
    "# around 5500 words)\n",
    "vocabulary = get_vocabulary(documents)\n",
    "print(len(vocabulary))\n",
    "print(vocabulary)"
   ]
  },
  {
   "cell_type": "markdown",
   "metadata": {},
   "source": [
    "14) what was the size of Sherin's vocabulary? \n",
    "647 words"
   ]
  },
  {
   "cell_type": "markdown",
   "metadata": {},
   "source": [
    "## Step 4 - transform your documents into 100-words chunks"
   ]
  },
  {
   "cell_type": "code",
   "execution_count": 98,
   "metadata": {},
   "outputs": [
    {
     "name": "stdout",
     "output_type": "stream",
     "text": [
      "2231\n",
      "['study', 'capturing', 'semantic', 'attributes', 'student', 'responses', 'vocabulary', 'learning', 'also', 'limitations', 'current', 'study', 'areas', 'future', 'work', 'first', 'expanding', 'scope', 'analysis', 'full', 'experimental', 'conditions', 'used', 'study', 'reveal', 'complex', 'interactions', 'conditions', 'students', 'short', 'longterm', 'learning', 'second', 'study', 'used', 'fixed', 'threshold', 'investigating', 'false', 'prediction', 'results', 'however', 'optimal', 'threshold', 'participant', 'group', 'prediction', 'model', 'could', 'selected', 'especially', 'different', 'false', 'positive', 'negative', 'patterns', 'observed', 'different', 'groups', 'students', 'lastly', 'study', 'collected', 'data', 'single', 'vocabulary', 'tutoring', 'system', 'used', 'classroom', 'setting', 'applying', 'proposed', 'method', 'data', 'collected', 'classroom', 'setting', 'vocabulary', 'learning', 'system', 'would', 'useful', 'show', 'generalization', 'suggested', 'method', 'acknowledgments', 'research', 'reported', 'supported', 'institute', 'education', 'sciences', 'department', 'education', 'grant', 'university', 'michigan', 'opinions']\n"
     ]
    }
   ],
   "source": [
    "# 15) create a function that takes in a list of documents\n",
    "# and returns a list of 100-words chunk \n",
    "# (with a 25 words overlap between them)\n",
    "# Optional: add two arguments, one for the number of words\n",
    "# in each chunk, and one for the overlap size\n",
    "# Advice: combining all the documents into one giant string\n",
    "# and splitting it into separate words will make your life easier!\n",
    "\n",
    "def text_segments(text, overlap, length):\n",
    "    text = ' '.join(text)\n",
    "    text = text.split()\n",
    "    segments = []\n",
    "    for i in range(0,len(text)-100,overlap):\n",
    "        segments.append(text[i:i+length])\n",
    "        i += 25\n",
    "    return segments\n",
    "\n",
    "segments = text_segments(documents,25,100)\n",
    "print(len(segments))\n",
    "\n",
    "#We have to limit the end segments so they are all 100 words- otherwise we end up with the final 100 words split\n",
    "#into 25-word chunks"
   ]
  },
  {
   "cell_type": "code",
   "execution_count": 101,
   "metadata": {},
   "outputs": [
    {
     "data": {
      "text/plain": [
       "'true'"
      ]
     },
     "execution_count": 101,
     "metadata": {},
     "output_type": "execute_result"
    }
   ],
   "source": [
    "# 16) create a for loop to double check that each chunk has \n",
    "# a length of 100\n",
    "# Optional: use assert to do this check\n",
    "def hundreds_true(text):\n",
    "    for i in range(0,len(text)):\n",
    "        assert len(seg) == 100\n",
    "    return 'true'\n",
    "hundreds_true(segments)"
   ]
  },
  {
   "cell_type": "code",
   "execution_count": 102,
   "metadata": {},
   "outputs": [
    {
     "name": "stdout",
     "output_type": "stream",
     "text": [
      "['mind', 'wandering', 'defined', 'shifts', 'attention', 'task', 'related', 'processing', 'task', 'unrelated', 'thoughts', 'ubiquitous', 'phenomenon', 'negative', 'influence', 'performance', 'productivity', 'many', 'contexts', 'including', 'learning', 'propose', 'next', 'generation', 'learning', 'technologies', 'mechanism', 'detect', 'respond', 'mind', 'wandering', 'real', 'time', 'towards', 'developed', 'technology', 'automatically', 'detects', 'mind', 'wandering', 'gaze', 'learning', 'instructional', 'texts', 'mind', 'wandering', 'detected', 'technology', 'intervenes', 'posing', 'time', 'questions', 'encouraging', 'reading', 'needed', 'multiple', 'rounds', 'iterative', 'refinement', 'summatively', 'compared', 'technology', 'yoked', 'control', 'experiment', 'participants', 'dependent', 'variable', 'performance', 'post', 'reading', 'comprehension', 'assessment', 'results', 'suggest', 'technology', 'successful', 'correcting', 'comprehension', 'deficits', 'attributed', 'mind', 'wandering', 'sigma', 'specific', 'conditions', 'thereby', 'highlighting', 'potential', 'improve', 'learning', 'attending', 'attention', 'keywords', 'mind', 'wandering', 'gaze', 'tracking', 'student', 'modeling']\n"
     ]
    }
   ],
   "source": [
    "# 17) print the first chunk, and compare it to the original text.\n",
    "# does that match what Sherin describes in his paper?\n",
    "print(segments[0])\n",
    "\n",
    "Abstract from paper 1:\n",
    "# Mind wandering, defined as shifts in attention from task-related\n",
    "# processing to task-unrelated thoughts, is a ubiquitous\n",
    "# phenomenon that has a negative influence on performance and\n",
    "# productivity in many contexts, including learning. We propose\n",
    "# that next-generation learning technologies should have some\n",
    "# mechanism to detect and respond to mind wandering in real-time.\n",
    "# Towards this end, we developed a technology that automatically\n",
    "# detects mind wandering from eye-gaze during learning from\n",
    "# instructional texts. When mind wandering is detected, the\n",
    "# technology intervenes by posing just-in-time questions and\n",
    "# encouraging re-reading as needed. After multiple rounds of\n",
    "# iterative refinement, we summatively compared the technology to\n",
    "# a yoked-control in an experiment with 104 participants. The key\n",
    "# dependent variable was performance on a post-reading\n",
    "# comprehension assessment. Our results suggest that the\n",
    "# technology was successful in correcting comprehension deficits\n",
    "# attributed to mind wandering (d = .47 sigma) under specific\n",
    "# conditions, thereby highlighting the potential to improve learning\n",
    "# by “attending to attention.”\n",
    "\n",
    "##Yep, this looks right to me"
   ]
  },
  {
   "cell_type": "markdown",
   "metadata": {},
   "source": [
    "18) how many chunks did Sherin have? What does a chunk become in the next step of our topic modeling algorithm? \n",
    "Sherin had 794 segments of text. These segments were converted from a list of words, to a count of the vocabulary. So in the segment printed in question 1, insread of 100 words in a list, we might have a dictionary that held a key for each word and a value that was the count of how often that word appeared in this segment (e.g. 'mind':4). Then this is converted to a vector."
   ]
  },
  {
   "cell_type": "markdown",
   "metadata": {},
   "source": [
    "19) what are some other preprocessing steps we could do to improve the quality of the text data? Mention at least 2.\n",
    "I don't think we should have made these segments cross papers. We probably should have made 100-word segments bounded by each paper so we can compare the papers to each other (like Sherin does for different students)\n",
    "\n",
    "I think we might have wanted to keep compound words, so not removing all hyphens from the text. In the first paper \"mind-wandering\" is meaningfully different from \"mind\" and \"wandering\" separately.\n",
    "\n",
    "We might also want to remove the keywords that appear in between the abstract and introduction."
   ]
  },
  {
   "cell_type": "markdown",
   "metadata": {},
   "source": [
    "20) in your own words, describe the next steps of the data modeling algorithms (listed below):\n",
    "We will take the segments and convert them into vocabulary counts, so all the segments will have a matrix of the same list of words and the unique frequency of each to that segment.\n",
    "\n",
    "We will \"weight\" the words, actually log-transforming them so that they have a more linear relationship and giving less weight to those words that have very high frequencies\n",
    "\n",
    "We will create vectors out of these: which will have two properties, an angle and a length.\n",
    "\n",
    "We will standardize the lengths to 1 so the vectors only have one property.\n",
    "\n",
    "We will convert these into deviation vectors that tell us not the unique angle of the vector but its deviation from the average.\n",
    "\n",
    "We will cluster the vectors by comparing them to each other- vectors with similar averages will iteratively be clustered together. We then have to choose the best cluster scheme.\n",
    "\n",
    "We will visualize the results- how do the segments compare, and can we extract any meaning about what the EDM conference is about?"
   ]
  },
  {
   "cell_type": "markdown",
   "metadata": {},
   "source": [
    "## Step 5 - Vector and Matrix operations"
   ]
  },
  {
   "cell_type": "markdown",
   "metadata": {},
   "source": [
    "## Step 6 - Weight word frequency"
   ]
  },
  {
   "cell_type": "markdown",
   "metadata": {},
   "source": [
    "## Step 7 - Matrix normalization"
   ]
  },
  {
   "cell_type": "markdown",
   "metadata": {},
   "source": [
    "## Step 8 - Deviation Vectors"
   ]
  },
  {
   "cell_type": "markdown",
   "metadata": {},
   "source": [
    "## Step 9 - Clustering"
   ]
  },
  {
   "cell_type": "markdown",
   "metadata": {},
   "source": [
    "## Step 10 - Visualizing the results"
   ]
  },
  {
   "cell_type": "markdown",
   "metadata": {},
   "source": [
    "## Final Step - Putting it all together: "
   ]
  },
  {
   "cell_type": "code",
   "execution_count": 17,
   "metadata": {},
   "outputs": [],
   "source": [
    "# in python code, our goal is to recreate the steps above as functions\n",
    "# so that we can just one line to run topic modeling on a list of \n",
    "# documents: \n",
    "def ExtractTopicsVSM(documents, numTopics):\n",
    "    ''' this functions takes in a list of documents (strings), \n",
    "        runs topic modeling (as implemented by Sherin, 2013)\n",
    "        and returns the clustering results, the matrix used \n",
    "        for clustering a visualization '''\n",
    "    \n",
    "    # step 2: clean up the documents\n",
    "    documents = clean_list_of_documents(documents)\n",
    "    \n",
    "    # step 3: let's build the vocabulary of these docs\n",
    "    vocabulary = get_vocabulary(documents)\n",
    "    \n",
    "    # step 4: we build our list of 100-words overlapping fragments\n",
    "    documents = flatten_and_overlap(documents)\n",
    "    \n",
    "    # step 5: we convert the chunks into a matrix\n",
    "    matrix = docs_by_words_matrix(documents, vocabulary)\n",
    "    \n",
    "    # step 6: we weight the frequency of words (count = 1 + log(count))\n",
    "    matrix = one_plus_log_mat(matrix, documents, vocabulary)\n",
    "    \n",
    "    # step 7: we normalize the matrix\n",
    "    matrix = normalize(matrix)\n",
    "    \n",
    "    # step 8: we compute deviation vectors\n",
    "    matrix = transform_deviation_vectors(matrix, documents)\n",
    "    \n",
    "    # step 9: we apply a clustering algorithm to find topics\n",
    "    results_clustering = cluster_matrix(matrix)\n",
    "    \n",
    "    # step 10: we create a visualization of the topics\n",
    "    visualization = visualize_clusters(results_clustering, vocabulary)\n",
    "    \n",
    "    # finally, we return the clustering results, the matrix, and a visualization\n",
    "    return results_clustering, matrix, visualization"
   ]
  }
 ],
 "metadata": {
  "kernelspec": {
   "display_name": "Python 3",
   "language": "python",
   "name": "python3"
  },
  "language_info": {
   "codemirror_mode": {
    "name": "ipython",
    "version": 3
   },
   "file_extension": ".py",
   "mimetype": "text/x-python",
   "name": "python",
   "nbconvert_exporter": "python",
   "pygments_lexer": "ipython3",
   "version": "3.7.1"
  },
  "varInspector": {
   "cols": {
    "lenName": 16,
    "lenType": 16,
    "lenVar": 40
   },
   "kernels_config": {
    "python": {
     "delete_cmd_postfix": "",
     "delete_cmd_prefix": "del ",
     "library": "var_list.py",
     "varRefreshCmd": "print(var_dic_list())"
    },
    "r": {
     "delete_cmd_postfix": ") ",
     "delete_cmd_prefix": "rm(",
     "library": "var_list.r",
     "varRefreshCmd": "cat(var_dic_list()) "
    }
   },
   "types_to_exclude": [
    "module",
    "function",
    "builtin_function_or_method",
    "instance",
    "_Feature"
   ],
   "window_display": false
  }
 },
 "nbformat": 4,
 "nbformat_minor": 2
}
